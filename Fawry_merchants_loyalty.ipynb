{
 "cells": [
  {
   "cell_type": "markdown",
   "id": "971088a4",
   "metadata": {},
   "source": [
    "# Fawry Merchants Segmentation - Loyalty"
   ]
  },
  {
   "cell_type": "markdown",
   "id": "b20a8f0a",
   "metadata": {},
   "source": [
    "## By: Salem Mohamed -  Master of Business Analystics @ USM "
   ]
  },
  {
   "cell_type": "code",
   "execution_count": 1,
   "id": "c65c94e0",
   "metadata": {},
   "outputs": [],
   "source": [
    "%matplotlib inline"
   ]
  },
  {
   "cell_type": "markdown",
   "id": "949194a4",
   "metadata": {},
   "source": [
    "## Import Lib."
   ]
  },
  {
   "cell_type": "code",
   "execution_count": 6,
   "id": "a4e64ab8",
   "metadata": {},
   "outputs": [],
   "source": [
    "#import the necessary libraries\n",
    "\n",
    "import pandas as pd\n",
    "import datetime as dt\n",
    "import numpy as np\n",
    "\n",
    "import seaborn as sns\n",
    "import matplotlib.pyplot as plt\n",
    "from matplotlib.pyplot import figure\n",
    "\n",
    "from sklearn.cluster import AgglomerativeClustering\n",
    "from scipy.cluster.hierarchy import dendrogram, linkage\n",
    "from sklearn.cluster import DBSCAN\n",
    "from sklearn.neighbors import NearestNeighbors\n",
    "from sklearn.preprocessing import StandardScaler\n",
    "from sklearn.cluster import KMeans\n",
    "from sklearn.mixture import GaussianMixture\n",
    "from sklearn import metrics\n",
    "from sklearn.metrics import pairwise_distances,silhouette_score,calinski_harabasz_score,davies_bouldin_score\n",
    "from collections import Counter"
   ]
  },
  {
   "cell_type": "markdown",
   "id": "d1a4d627",
   "metadata": {},
   "source": [
    "## Importing Data"
   ]
  },
  {
   "cell_type": "code",
   "execution_count": 7,
   "id": "43e5d63e",
   "metadata": {},
   "outputs": [],
   "source": [
    "#import the data from the provided excel file\n",
    "\n",
    "raw_dff = pd.read_excel(\"Copy.xlsx\", sheet_name=\"Sales Data\")"
   ]
  },
  {
   "cell_type": "code",
   "execution_count": 8,
   "id": "8ca6ad6f",
   "metadata": {},
   "outputs": [
    {
     "data": {
      "text/html": [
       "<div>\n",
       "<style scoped>\n",
       "    .dataframe tbody tr th:only-of-type {\n",
       "        vertical-align: middle;\n",
       "    }\n",
       "\n",
       "    .dataframe tbody tr th {\n",
       "        vertical-align: top;\n",
       "    }\n",
       "\n",
       "    .dataframe thead th {\n",
       "        text-align: right;\n",
       "    }\n",
       "</style>\n",
       "<table border=\"1\" class=\"dataframe\">\n",
       "  <thead>\n",
       "    <tr style=\"text-align: right;\">\n",
       "      <th></th>\n",
       "      <th>ACCOUNT_CODE</th>\n",
       "      <th>MONTH_CD</th>\n",
       "      <th>SERVICE_CATEGORY</th>\n",
       "      <th>TRX_CNT</th>\n",
       "      <th>TRX_AMT</th>\n",
       "      <th>WORKING_DAYS</th>\n",
       "      <th>BIG_VALUE_TICKETS</th>\n",
       "      <th>AVG_TRX_AMT</th>\n",
       "      <th>BTC_COUNT</th>\n",
       "      <th>BILLERS_COUNT</th>\n",
       "      <th>QUARTER</th>\n",
       "      <th>YEAR</th>\n",
       "    </tr>\n",
       "  </thead>\n",
       "  <tbody>\n",
       "    <tr>\n",
       "      <th>0</th>\n",
       "      <td>814</td>\n",
       "      <td>202001</td>\n",
       "      <td>Acquiring</td>\n",
       "      <td>55</td>\n",
       "      <td>37969.14</td>\n",
       "      <td>24</td>\n",
       "      <td>0</td>\n",
       "      <td>1518.7656</td>\n",
       "      <td>1</td>\n",
       "      <td>1</td>\n",
       "      <td>20201</td>\n",
       "      <td>2020</td>\n",
       "    </tr>\n",
       "    <tr>\n",
       "      <th>1</th>\n",
       "      <td>814</td>\n",
       "      <td>202001</td>\n",
       "      <td>B2B</td>\n",
       "      <td>111</td>\n",
       "      <td>261195.00</td>\n",
       "      <td>29</td>\n",
       "      <td>2</td>\n",
       "      <td>7255.4167</td>\n",
       "      <td>2</td>\n",
       "      <td>2</td>\n",
       "      <td>20201</td>\n",
       "      <td>2020</td>\n",
       "    </tr>\n",
       "    <tr>\n",
       "      <th>2</th>\n",
       "      <td>814</td>\n",
       "      <td>202001</td>\n",
       "      <td>Cash In</td>\n",
       "      <td>51</td>\n",
       "      <td>53328.00</td>\n",
       "      <td>22</td>\n",
       "      <td>2</td>\n",
       "      <td>2051.0769</td>\n",
       "      <td>2</td>\n",
       "      <td>2</td>\n",
       "      <td>20201</td>\n",
       "      <td>2020</td>\n",
       "    </tr>\n",
       "    <tr>\n",
       "      <th>3</th>\n",
       "      <td>814</td>\n",
       "      <td>202001</td>\n",
       "      <td>Cash Out</td>\n",
       "      <td>14</td>\n",
       "      <td>38360.00</td>\n",
       "      <td>10</td>\n",
       "      <td>2</td>\n",
       "      <td>3836.0000</td>\n",
       "      <td>1</td>\n",
       "      <td>1</td>\n",
       "      <td>20201</td>\n",
       "      <td>2020</td>\n",
       "    </tr>\n",
       "    <tr>\n",
       "      <th>4</th>\n",
       "      <td>814</td>\n",
       "      <td>202001</td>\n",
       "      <td>Charity</td>\n",
       "      <td>2</td>\n",
       "      <td>500.00</td>\n",
       "      <td>1</td>\n",
       "      <td>0</td>\n",
       "      <td>250.0000</td>\n",
       "      <td>2</td>\n",
       "      <td>2</td>\n",
       "      <td>20201</td>\n",
       "      <td>2020</td>\n",
       "    </tr>\n",
       "    <tr>\n",
       "      <th>...</th>\n",
       "      <td>...</td>\n",
       "      <td>...</td>\n",
       "      <td>...</td>\n",
       "      <td>...</td>\n",
       "      <td>...</td>\n",
       "      <td>...</td>\n",
       "      <td>...</td>\n",
       "      <td>...</td>\n",
       "      <td>...</td>\n",
       "      <td>...</td>\n",
       "      <td>...</td>\n",
       "      <td>...</td>\n",
       "    </tr>\n",
       "    <tr>\n",
       "      <th>184212</th>\n",
       "      <td>101</td>\n",
       "      <td>202210</td>\n",
       "      <td>Education</td>\n",
       "      <td>4</td>\n",
       "      <td>1140.00</td>\n",
       "      <td>2</td>\n",
       "      <td>0</td>\n",
       "      <td>570.0000</td>\n",
       "      <td>1</td>\n",
       "      <td>1</td>\n",
       "      <td>20224</td>\n",
       "      <td>2022</td>\n",
       "    </tr>\n",
       "    <tr>\n",
       "      <th>184213</th>\n",
       "      <td>101</td>\n",
       "      <td>202210</td>\n",
       "      <td>Financial Collection Services</td>\n",
       "      <td>25</td>\n",
       "      <td>12852.34</td>\n",
       "      <td>5</td>\n",
       "      <td>0</td>\n",
       "      <td>2142.0567</td>\n",
       "      <td>1</td>\n",
       "      <td>1</td>\n",
       "      <td>20224</td>\n",
       "      <td>2022</td>\n",
       "    </tr>\n",
       "    <tr>\n",
       "      <th>184214</th>\n",
       "      <td>101</td>\n",
       "      <td>202210</td>\n",
       "      <td>Top-Up</td>\n",
       "      <td>6</td>\n",
       "      <td>321.75</td>\n",
       "      <td>2</td>\n",
       "      <td>0</td>\n",
       "      <td>107.2500</td>\n",
       "      <td>1</td>\n",
       "      <td>1</td>\n",
       "      <td>20224</td>\n",
       "      <td>2022</td>\n",
       "    </tr>\n",
       "    <tr>\n",
       "      <th>184215</th>\n",
       "      <td>101</td>\n",
       "      <td>202210</td>\n",
       "      <td>Utilities</td>\n",
       "      <td>5</td>\n",
       "      <td>1130.50</td>\n",
       "      <td>3</td>\n",
       "      <td>0</td>\n",
       "      <td>376.8333</td>\n",
       "      <td>1</td>\n",
       "      <td>1</td>\n",
       "      <td>20224</td>\n",
       "      <td>2022</td>\n",
       "    </tr>\n",
       "    <tr>\n",
       "      <th>184216</th>\n",
       "      <td>101</td>\n",
       "      <td>202210</td>\n",
       "      <td>Vouchers</td>\n",
       "      <td>30</td>\n",
       "      <td>299.00</td>\n",
       "      <td>2</td>\n",
       "      <td>0</td>\n",
       "      <td>15.7368</td>\n",
       "      <td>2</td>\n",
       "      <td>2</td>\n",
       "      <td>20224</td>\n",
       "      <td>2022</td>\n",
       "    </tr>\n",
       "  </tbody>\n",
       "</table>\n",
       "<p>184217 rows × 12 columns</p>\n",
       "</div>"
      ],
      "text/plain": [
       "        ACCOUNT_CODE  MONTH_CD               SERVICE_CATEGORY  TRX_CNT  \\\n",
       "0                814    202001                      Acquiring       55   \n",
       "1                814    202001                            B2B      111   \n",
       "2                814    202001                        Cash In       51   \n",
       "3                814    202001                       Cash Out       14   \n",
       "4                814    202001                        Charity        2   \n",
       "...              ...       ...                            ...      ...   \n",
       "184212           101    202210                      Education        4   \n",
       "184213           101    202210  Financial Collection Services       25   \n",
       "184214           101    202210                         Top-Up        6   \n",
       "184215           101    202210                      Utilities        5   \n",
       "184216           101    202210                       Vouchers       30   \n",
       "\n",
       "          TRX_AMT  WORKING_DAYS  BIG_VALUE_TICKETS  AVG_TRX_AMT  BTC_COUNT  \\\n",
       "0        37969.14            24                  0    1518.7656          1   \n",
       "1       261195.00            29                  2    7255.4167          2   \n",
       "2        53328.00            22                  2    2051.0769          2   \n",
       "3        38360.00            10                  2    3836.0000          1   \n",
       "4          500.00             1                  0     250.0000          2   \n",
       "...           ...           ...                ...          ...        ...   \n",
       "184212    1140.00             2                  0     570.0000          1   \n",
       "184213   12852.34             5                  0    2142.0567          1   \n",
       "184214     321.75             2                  0     107.2500          1   \n",
       "184215    1130.50             3                  0     376.8333          1   \n",
       "184216     299.00             2                  0      15.7368          2   \n",
       "\n",
       "        BILLERS_COUNT  QUARTER  YEAR  \n",
       "0                   1    20201  2020  \n",
       "1                   2    20201  2020  \n",
       "2                   2    20201  2020  \n",
       "3                   1    20201  2020  \n",
       "4                   2    20201  2020  \n",
       "...               ...      ...   ...  \n",
       "184212              1    20224  2022  \n",
       "184213              1    20224  2022  \n",
       "184214              1    20224  2022  \n",
       "184215              1    20224  2022  \n",
       "184216              2    20224  2022  \n",
       "\n",
       "[184217 rows x 12 columns]"
      ]
     },
     "execution_count": 8,
     "metadata": {},
     "output_type": "execute_result"
    }
   ],
   "source": [
    "#create a copy of the dataframe instead of importing data everytime to restore zero point\n",
    "\n",
    "raw_df = raw_dff.copy()\n",
    "raw_df"
   ]
  },
  {
   "cell_type": "markdown",
   "id": "98142bc9",
   "metadata": {},
   "source": [
    "## Exploratory Data Analysis"
   ]
  },
  {
   "cell_type": "markdown",
   "id": "19755127",
   "metadata": {},
   "source": [
    "### Statistics"
   ]
  },
  {
   "cell_type": "code",
   "execution_count": 9,
   "id": "f308c1ce",
   "metadata": {},
   "outputs": [
    {
     "data": {
      "text/plain": [
       "ACCOUNT_CODE         0\n",
       "MONTH_CD             0\n",
       "SERVICE_CATEGORY     0\n",
       "TRX_CNT              0\n",
       "TRX_AMT              0\n",
       "WORKING_DAYS         0\n",
       "BIG_VALUE_TICKETS    0\n",
       "AVG_TRX_AMT          0\n",
       "BTC_COUNT            0\n",
       "BILLERS_COUNT        0\n",
       "QUARTER              0\n",
       "YEAR                 0\n",
       "dtype: int64"
      ]
     },
     "execution_count": 9,
     "metadata": {},
     "output_type": "execute_result"
    }
   ],
   "source": [
    "#checking for null values in each column \n",
    "raw_df.isnull().sum()"
   ]
  },
  {
   "cell_type": "code",
   "execution_count": 10,
   "id": "66a61c9a",
   "metadata": {},
   "outputs": [
    {
     "name": "stdout",
     "output_type": "stream",
     "text": [
      "<class 'pandas.core.frame.DataFrame'>\n",
      "RangeIndex: 184217 entries, 0 to 184216\n",
      "Data columns (total 12 columns):\n",
      " #   Column             Non-Null Count   Dtype  \n",
      "---  ------             --------------   -----  \n",
      " 0   ACCOUNT_CODE       184217 non-null  int64  \n",
      " 1   MONTH_CD           184217 non-null  int64  \n",
      " 2   SERVICE_CATEGORY   184217 non-null  object \n",
      " 3   TRX_CNT            184217 non-null  int64  \n",
      " 4   TRX_AMT            184217 non-null  float64\n",
      " 5   WORKING_DAYS       184217 non-null  int64  \n",
      " 6   BIG_VALUE_TICKETS  184217 non-null  int64  \n",
      " 7   AVG_TRX_AMT        184217 non-null  float64\n",
      " 8   BTC_COUNT          184217 non-null  int64  \n",
      " 9   BILLERS_COUNT      184217 non-null  int64  \n",
      " 10  QUARTER            184217 non-null  int64  \n",
      " 11  YEAR               184217 non-null  int64  \n",
      "dtypes: float64(2), int64(9), object(1)\n",
      "memory usage: 16.9+ MB\n"
     ]
    }
   ],
   "source": [
    "#getting information and description about the dataframe and columns inside\n",
    "\n",
    "raw_df.info()"
   ]
  },
  {
   "cell_type": "code",
   "execution_count": 11,
   "id": "ce5e5f0a",
   "metadata": {},
   "outputs": [
    {
     "data": {
      "text/html": [
       "<div>\n",
       "<style scoped>\n",
       "    .dataframe tbody tr th:only-of-type {\n",
       "        vertical-align: middle;\n",
       "    }\n",
       "\n",
       "    .dataframe tbody tr th {\n",
       "        vertical-align: top;\n",
       "    }\n",
       "\n",
       "    .dataframe thead th {\n",
       "        text-align: right;\n",
       "    }\n",
       "</style>\n",
       "<table border=\"1\" class=\"dataframe\">\n",
       "  <thead>\n",
       "    <tr style=\"text-align: right;\">\n",
       "      <th></th>\n",
       "      <th>TRX_CNT</th>\n",
       "      <th>TRX_AMT</th>\n",
       "      <th>WORKING_DAYS</th>\n",
       "      <th>BIG_VALUE_TICKETS</th>\n",
       "      <th>AVG_TRX_AMT</th>\n",
       "      <th>BTC_COUNT</th>\n",
       "    </tr>\n",
       "  </thead>\n",
       "  <tbody>\n",
       "    <tr>\n",
       "      <th>count</th>\n",
       "      <td>184217.000000</td>\n",
       "      <td>1.842170e+05</td>\n",
       "      <td>184217.000000</td>\n",
       "      <td>184217.000000</td>\n",
       "      <td>184217.000000</td>\n",
       "      <td>184217.000000</td>\n",
       "    </tr>\n",
       "    <tr>\n",
       "      <th>mean</th>\n",
       "      <td>131.829793</td>\n",
       "      <td>9.495894e+03</td>\n",
       "      <td>11.616490</td>\n",
       "      <td>0.160436</td>\n",
       "      <td>657.478937</td>\n",
       "      <td>3.658126</td>\n",
       "    </tr>\n",
       "    <tr>\n",
       "      <th>std</th>\n",
       "      <td>389.985997</td>\n",
       "      <td>4.178228e+04</td>\n",
       "      <td>10.033458</td>\n",
       "      <td>2.256127</td>\n",
       "      <td>2766.949881</td>\n",
       "      <td>3.170485</td>\n",
       "    </tr>\n",
       "    <tr>\n",
       "      <th>min</th>\n",
       "      <td>0.000000</td>\n",
       "      <td>0.000000e+00</td>\n",
       "      <td>0.000000</td>\n",
       "      <td>0.000000</td>\n",
       "      <td>0.000000</td>\n",
       "      <td>1.000000</td>\n",
       "    </tr>\n",
       "    <tr>\n",
       "      <th>25%</th>\n",
       "      <td>4.000000</td>\n",
       "      <td>8.795000e+02</td>\n",
       "      <td>2.000000</td>\n",
       "      <td>0.000000</td>\n",
       "      <td>86.666700</td>\n",
       "      <td>1.000000</td>\n",
       "    </tr>\n",
       "    <tr>\n",
       "      <th>50%</th>\n",
       "      <td>17.000000</td>\n",
       "      <td>3.006590e+03</td>\n",
       "      <td>8.000000</td>\n",
       "      <td>0.000000</td>\n",
       "      <td>209.986000</td>\n",
       "      <td>2.000000</td>\n",
       "    </tr>\n",
       "    <tr>\n",
       "      <th>75%</th>\n",
       "      <td>83.000000</td>\n",
       "      <td>8.567500e+03</td>\n",
       "      <td>20.000000</td>\n",
       "      <td>0.000000</td>\n",
       "      <td>580.066700</td>\n",
       "      <td>6.000000</td>\n",
       "    </tr>\n",
       "    <tr>\n",
       "      <th>max</th>\n",
       "      <td>9806.000000</td>\n",
       "      <td>5.552400e+06</td>\n",
       "      <td>31.000000</td>\n",
       "      <td>195.000000</td>\n",
       "      <td>644510.000000</td>\n",
       "      <td>34.000000</td>\n",
       "    </tr>\n",
       "  </tbody>\n",
       "</table>\n",
       "</div>"
      ],
      "text/plain": [
       "             TRX_CNT       TRX_AMT   WORKING_DAYS  BIG_VALUE_TICKETS  \\\n",
       "count  184217.000000  1.842170e+05  184217.000000      184217.000000   \n",
       "mean      131.829793  9.495894e+03      11.616490           0.160436   \n",
       "std       389.985997  4.178228e+04      10.033458           2.256127   \n",
       "min         0.000000  0.000000e+00       0.000000           0.000000   \n",
       "25%         4.000000  8.795000e+02       2.000000           0.000000   \n",
       "50%        17.000000  3.006590e+03       8.000000           0.000000   \n",
       "75%        83.000000  8.567500e+03      20.000000           0.000000   \n",
       "max      9806.000000  5.552400e+06      31.000000         195.000000   \n",
       "\n",
       "         AVG_TRX_AMT      BTC_COUNT  \n",
       "count  184217.000000  184217.000000  \n",
       "mean      657.478937       3.658126  \n",
       "std      2766.949881       3.170485  \n",
       "min         0.000000       1.000000  \n",
       "25%        86.666700       1.000000  \n",
       "50%       209.986000       2.000000  \n",
       "75%       580.066700       6.000000  \n",
       "max    644510.000000      34.000000  "
      ]
     },
     "execution_count": 11,
     "metadata": {},
     "output_type": "execute_result"
    }
   ],
   "source": [
    "#showing statistical description for the numerical fields\n",
    "\n",
    "raw_df.iloc[:,2:9].describe()"
   ]
  },
  {
   "cell_type": "code",
   "execution_count": 12,
   "id": "08edee10",
   "metadata": {},
   "outputs": [
    {
     "data": {
      "text/html": [
       "<div>\n",
       "<style scoped>\n",
       "    .dataframe tbody tr th:only-of-type {\n",
       "        vertical-align: middle;\n",
       "    }\n",
       "\n",
       "    .dataframe tbody tr th {\n",
       "        vertical-align: top;\n",
       "    }\n",
       "\n",
       "    .dataframe thead th {\n",
       "        text-align: right;\n",
       "    }\n",
       "</style>\n",
       "<table border=\"1\" class=\"dataframe\">\n",
       "  <thead>\n",
       "    <tr style=\"text-align: right;\">\n",
       "      <th></th>\n",
       "      <th>ACCOUNT_CODE</th>\n",
       "      <th>MONTH_CD</th>\n",
       "      <th>SERVICE_CATEGORY</th>\n",
       "      <th>TRX_CNT</th>\n",
       "      <th>TRX_AMT</th>\n",
       "      <th>WORKING_DAYS</th>\n",
       "      <th>BIG_VALUE_TICKETS</th>\n",
       "      <th>AVG_TRX_AMT</th>\n",
       "      <th>BTC_COUNT</th>\n",
       "      <th>BILLERS_COUNT</th>\n",
       "      <th>QUARTER</th>\n",
       "      <th>YEAR</th>\n",
       "    </tr>\n",
       "  </thead>\n",
       "  <tbody>\n",
       "    <tr>\n",
       "      <th>count</th>\n",
       "      <td>184217.000000</td>\n",
       "      <td>184217.000000</td>\n",
       "      <td>184217</td>\n",
       "      <td>184217.000000</td>\n",
       "      <td>1.842170e+05</td>\n",
       "      <td>184217.000000</td>\n",
       "      <td>184217.000000</td>\n",
       "      <td>184217.000000</td>\n",
       "      <td>184217.000000</td>\n",
       "      <td>184217.000000</td>\n",
       "      <td>184217.000000</td>\n",
       "      <td>184217.000000</td>\n",
       "    </tr>\n",
       "    <tr>\n",
       "      <th>unique</th>\n",
       "      <td>NaN</td>\n",
       "      <td>NaN</td>\n",
       "      <td>16</td>\n",
       "      <td>NaN</td>\n",
       "      <td>NaN</td>\n",
       "      <td>NaN</td>\n",
       "      <td>NaN</td>\n",
       "      <td>NaN</td>\n",
       "      <td>NaN</td>\n",
       "      <td>NaN</td>\n",
       "      <td>NaN</td>\n",
       "      <td>NaN</td>\n",
       "    </tr>\n",
       "    <tr>\n",
       "      <th>top</th>\n",
       "      <td>NaN</td>\n",
       "      <td>NaN</td>\n",
       "      <td>Top-Up</td>\n",
       "      <td>NaN</td>\n",
       "      <td>NaN</td>\n",
       "      <td>NaN</td>\n",
       "      <td>NaN</td>\n",
       "      <td>NaN</td>\n",
       "      <td>NaN</td>\n",
       "      <td>NaN</td>\n",
       "      <td>NaN</td>\n",
       "      <td>NaN</td>\n",
       "    </tr>\n",
       "    <tr>\n",
       "      <th>freq</th>\n",
       "      <td>NaN</td>\n",
       "      <td>NaN</td>\n",
       "      <td>23752</td>\n",
       "      <td>NaN</td>\n",
       "      <td>NaN</td>\n",
       "      <td>NaN</td>\n",
       "      <td>NaN</td>\n",
       "      <td>NaN</td>\n",
       "      <td>NaN</td>\n",
       "      <td>NaN</td>\n",
       "      <td>NaN</td>\n",
       "      <td>NaN</td>\n",
       "    </tr>\n",
       "    <tr>\n",
       "      <th>mean</th>\n",
       "      <td>623.065765</td>\n",
       "      <td>202118.399073</td>\n",
       "      <td>NaN</td>\n",
       "      <td>131.829793</td>\n",
       "      <td>9.495894e+03</td>\n",
       "      <td>11.616490</td>\n",
       "      <td>0.160436</td>\n",
       "      <td>657.478937</td>\n",
       "      <td>3.658126</td>\n",
       "      <td>2.726258</td>\n",
       "      <td>20213.671594</td>\n",
       "      <td>2021.120157</td>\n",
       "    </tr>\n",
       "    <tr>\n",
       "      <th>std</th>\n",
       "      <td>247.198749</td>\n",
       "      <td>79.136662</td>\n",
       "      <td>NaN</td>\n",
       "      <td>389.985997</td>\n",
       "      <td>4.178228e+04</td>\n",
       "      <td>10.033458</td>\n",
       "      <td>2.256127</td>\n",
       "      <td>2766.949881</td>\n",
       "      <td>3.170485</td>\n",
       "      <td>1.877036</td>\n",
       "      <td>7.869493</td>\n",
       "      <td>0.796154</td>\n",
       "    </tr>\n",
       "    <tr>\n",
       "      <th>min</th>\n",
       "      <td>1.000000</td>\n",
       "      <td>202001.000000</td>\n",
       "      <td>NaN</td>\n",
       "      <td>0.000000</td>\n",
       "      <td>0.000000e+00</td>\n",
       "      <td>0.000000</td>\n",
       "      <td>0.000000</td>\n",
       "      <td>0.000000</td>\n",
       "      <td>1.000000</td>\n",
       "      <td>1.000000</td>\n",
       "      <td>20201.000000</td>\n",
       "      <td>2020.000000</td>\n",
       "    </tr>\n",
       "    <tr>\n",
       "      <th>25%</th>\n",
       "      <td>476.000000</td>\n",
       "      <td>202012.000000</td>\n",
       "      <td>NaN</td>\n",
       "      <td>4.000000</td>\n",
       "      <td>8.795000e+02</td>\n",
       "      <td>2.000000</td>\n",
       "      <td>0.000000</td>\n",
       "      <td>86.666700</td>\n",
       "      <td>1.000000</td>\n",
       "      <td>1.000000</td>\n",
       "      <td>20204.000000</td>\n",
       "      <td>2020.000000</td>\n",
       "    </tr>\n",
       "    <tr>\n",
       "      <th>50%</th>\n",
       "      <td>648.000000</td>\n",
       "      <td>202109.000000</td>\n",
       "      <td>NaN</td>\n",
       "      <td>17.000000</td>\n",
       "      <td>3.006590e+03</td>\n",
       "      <td>8.000000</td>\n",
       "      <td>0.000000</td>\n",
       "      <td>209.986000</td>\n",
       "      <td>2.000000</td>\n",
       "      <td>2.000000</td>\n",
       "      <td>20213.000000</td>\n",
       "      <td>2021.000000</td>\n",
       "    </tr>\n",
       "    <tr>\n",
       "      <th>75%</th>\n",
       "      <td>828.000000</td>\n",
       "      <td>202204.000000</td>\n",
       "      <td>NaN</td>\n",
       "      <td>83.000000</td>\n",
       "      <td>8.567500e+03</td>\n",
       "      <td>20.000000</td>\n",
       "      <td>0.000000</td>\n",
       "      <td>580.066700</td>\n",
       "      <td>6.000000</td>\n",
       "      <td>4.000000</td>\n",
       "      <td>20222.000000</td>\n",
       "      <td>2022.000000</td>\n",
       "    </tr>\n",
       "    <tr>\n",
       "      <th>max</th>\n",
       "      <td>1000.000000</td>\n",
       "      <td>202210.000000</td>\n",
       "      <td>NaN</td>\n",
       "      <td>9806.000000</td>\n",
       "      <td>5.552400e+06</td>\n",
       "      <td>31.000000</td>\n",
       "      <td>195.000000</td>\n",
       "      <td>644510.000000</td>\n",
       "      <td>34.000000</td>\n",
       "      <td>30.000000</td>\n",
       "      <td>20224.000000</td>\n",
       "      <td>2022.000000</td>\n",
       "    </tr>\n",
       "  </tbody>\n",
       "</table>\n",
       "</div>"
      ],
      "text/plain": [
       "         ACCOUNT_CODE       MONTH_CD SERVICE_CATEGORY        TRX_CNT  \\\n",
       "count   184217.000000  184217.000000           184217  184217.000000   \n",
       "unique            NaN            NaN               16            NaN   \n",
       "top               NaN            NaN           Top-Up            NaN   \n",
       "freq              NaN            NaN            23752            NaN   \n",
       "mean       623.065765  202118.399073              NaN     131.829793   \n",
       "std        247.198749      79.136662              NaN     389.985997   \n",
       "min          1.000000  202001.000000              NaN       0.000000   \n",
       "25%        476.000000  202012.000000              NaN       4.000000   \n",
       "50%        648.000000  202109.000000              NaN      17.000000   \n",
       "75%        828.000000  202204.000000              NaN      83.000000   \n",
       "max       1000.000000  202210.000000              NaN    9806.000000   \n",
       "\n",
       "             TRX_AMT   WORKING_DAYS  BIG_VALUE_TICKETS    AVG_TRX_AMT  \\\n",
       "count   1.842170e+05  184217.000000      184217.000000  184217.000000   \n",
       "unique           NaN            NaN                NaN            NaN   \n",
       "top              NaN            NaN                NaN            NaN   \n",
       "freq             NaN            NaN                NaN            NaN   \n",
       "mean    9.495894e+03      11.616490           0.160436     657.478937   \n",
       "std     4.178228e+04      10.033458           2.256127    2766.949881   \n",
       "min     0.000000e+00       0.000000           0.000000       0.000000   \n",
       "25%     8.795000e+02       2.000000           0.000000      86.666700   \n",
       "50%     3.006590e+03       8.000000           0.000000     209.986000   \n",
       "75%     8.567500e+03      20.000000           0.000000     580.066700   \n",
       "max     5.552400e+06      31.000000         195.000000  644510.000000   \n",
       "\n",
       "            BTC_COUNT  BILLERS_COUNT        QUARTER           YEAR  \n",
       "count   184217.000000  184217.000000  184217.000000  184217.000000  \n",
       "unique            NaN            NaN            NaN            NaN  \n",
       "top               NaN            NaN            NaN            NaN  \n",
       "freq              NaN            NaN            NaN            NaN  \n",
       "mean         3.658126       2.726258   20213.671594    2021.120157  \n",
       "std          3.170485       1.877036       7.869493       0.796154  \n",
       "min          1.000000       1.000000   20201.000000    2020.000000  \n",
       "25%          1.000000       1.000000   20204.000000    2020.000000  \n",
       "50%          2.000000       2.000000   20213.000000    2021.000000  \n",
       "75%          6.000000       4.000000   20222.000000    2022.000000  \n",
       "max         34.000000      30.000000   20224.000000    2022.000000  "
      ]
     },
     "execution_count": 12,
     "metadata": {},
     "output_type": "execute_result"
    }
   ],
   "source": [
    "#statistic description of \"all\" features to view the categorical field, SERVICE_CATEGORY.\n",
    "\n",
    "raw_df.describe(include = 'all')"
   ]
  },
  {
   "cell_type": "code",
   "execution_count": 13,
   "id": "3d8eab78",
   "metadata": {},
   "outputs": [
    {
     "data": {
      "text/plain": [
       "0"
      ]
     },
     "execution_count": 13,
     "metadata": {},
     "output_type": "execute_result"
    }
   ],
   "source": [
    "#check for number of duplicates in data\n",
    "\n",
    "raw_df.duplicated().sum()"
   ]
  },
  {
   "cell_type": "markdown",
   "id": "aa33ea9d",
   "metadata": {},
   "source": [
    "### Charts"
   ]
  },
  {
   "cell_type": "code",
   "execution_count": 14,
   "id": "effa192e",
   "metadata": {},
   "outputs": [
    {
     "data": {
      "image/png": "[encoded data removed]",
      "text/plain": [
       "<Figure size 432x288 with 1 Axes>"
      ]
     },
     "metadata": {
      "needs_background": "light"
     },
     "output_type": "display_data"
    }
   ],
   "source": [
    "#show a count plot for SERVICE_CATEGORY column\n",
    "sns.countplot(data = raw_df, y =\"SERVICE_CATEGORY\")\n",
    "\n",
    "#save chart as a jpeg\n",
    "plt.savefig('category_count.jpeg',bbox_inches=\"tight\",pad_inches=0.6)"
   ]
  },
  {
   "cell_type": "code",
   "execution_count": 15,
   "id": "cd980705",
   "metadata": {},
   "outputs": [
    {
     "data": {
      "text/plain": [
       "Top-Up                           23752\n",
       "Vouchers                         23674\n",
       "Utilities                        23247\n",
       "Telecom                          22812\n",
       "Financial Collection Services    18035\n",
       "E-Commerce                       16059\n",
       "Cash In                          14536\n",
       "Education                         9445\n",
       "Cash Out                          7291\n",
       "B2B                               6432\n",
       "Charity                           6023\n",
       "Subscription & Ads                4454\n",
       "Acquiring                         4077\n",
       "Transportation                    2855\n",
       "Government                        1513\n",
       "Social Housing                      12\n",
       "Name: SERVICE_CATEGORY, dtype: int64"
      ]
     },
     "execution_count": 15,
     "metadata": {},
     "output_type": "execute_result"
    }
   ],
   "source": [
    "#print the frequency of each value of SERVICE_CATEGORY\n",
    "\n",
    "raw_df[\"SERVICE_CATEGORY\"].value_counts()"
   ]
  },
  {
   "cell_type": "code",
   "execution_count": 16,
   "id": "74d5b08d",
   "metadata": {},
   "outputs": [
    {
     "data": {
      "image/png": "[encoded data removed]",
      "text/plain": [
       "<Figure size 648x504 with 2 Axes>"
      ]
     },
     "metadata": {
      "needs_background": "light"
     },
     "output_type": "display_data"
    }
   ],
   "source": [
    "#set the dimension of the chart\n",
    "fig, ax = plt.subplots(figsize=(9, 7))\n",
    " \n",
    "# drawing the heatmap plot\n",
    "sns.heatmap(raw_df.corr(), vmin=-1,vmax=1, annot=True,ax=ax)\n",
    "plt.savefig('heatmap.jpeg',bbox_inches=\"tight\",pad_inches=0.6)\n",
    "plt.show()"
   ]
  },
  {
   "cell_type": "code",
   "execution_count": 17,
   "id": "74068751",
   "metadata": {},
   "outputs": [
    {
     "data": {
      "image/png": "[encoded data removed]",
      "text/plain": [
       "<Figure size 1224x864 with 6 Axes>"
      ]
     },
     "metadata": {
      "needs_background": "light"
     },
     "output_type": "display_data"
    }
   ],
   "source": [
    "#set the dimension of the chart\n",
    "fig, ax = plt.subplots(figsize=(17, 12))\n",
    "\n",
    "#set the subplot, then draw the histogram for numerical fields\n",
    "plt.subplot(3, 3, 1)\n",
    "plt.hist(raw_df[\"TRX_CNT\"])\n",
    "plt.title(\"TRX_CNT\")\n",
    "\n",
    "plt.subplot(3, 3, 2)\n",
    "plt.hist(raw_df[\"AVG_TRX_AMT\"])\n",
    "plt.title(\"AVG_TRX_AMT\")\n",
    "\n",
    "plt.subplot(3, 3, 3)\n",
    "plt.hist(raw_df[\"WORKING_DAYS\"])\n",
    "plt.title(\"WORKING_DAYS\")\n",
    "\n",
    "plt.subplot(3, 3, 4)\n",
    "plt.hist(raw_df[\"BIG_VALUE_TICKETS\"])\n",
    "plt.title(\"BIG_VALUE_TICKETS\")\n",
    "\n",
    "plt.subplot(3, 3, 5)\n",
    "plt.hist(raw_df[\"BTC_COUNT\"])\n",
    "plt.title(\"BTC_COUNT\")\n",
    "\n",
    "plt.subplot(3, 3, 6)\n",
    "plt.hist(raw_df[\"BILLERS_COUNT\"],)\n",
    "plt.title(\"BILLERS_COUNT\")\n",
    "\n",
    "\n",
    "\n",
    "fig.savefig('col_subplots.jpeg')\n",
    "plt.show()"
   ]
  },
  {
   "cell_type": "markdown",
   "id": "92aced45",
   "metadata": {},
   "source": [
    "## Data Preprocessing"
   ]
  },
  {
   "cell_type": "markdown",
   "id": "30edea62",
   "metadata": {},
   "source": [
    "### Data Transformation"
   ]
  },
  {
   "cell_type": "code",
   "execution_count": 14,
   "id": "fac7ea59",
   "metadata": {},
   "outputs": [
    {
     "name": "stdout",
     "output_type": "stream",
     "text": [
      "<class 'pandas.core.frame.DataFrame'>\n",
      "RangeIndex: 184217 entries, 0 to 184216\n",
      "Data columns (total 13 columns):\n",
      " #   Column             Non-Null Count   Dtype         \n",
      "---  ------             --------------   -----         \n",
      " 0   ACCOUNT_CODE       184217 non-null  int64         \n",
      " 1   MONTH_CD           184217 non-null  datetime64[ns]\n",
      " 2   SERVICE_CATEGORY   184217 non-null  object        \n",
      " 3   TRX_CNT            184217 non-null  int64         \n",
      " 4   TRX_AMT            184217 non-null  float64       \n",
      " 5   WORKING_DAYS       184217 non-null  int64         \n",
      " 6   BIG_VALUE_TICKETS  184217 non-null  int64         \n",
      " 7   AVG_TRX_AMT        184217 non-null  float64       \n",
      " 8   BTC_COUNT          184217 non-null  int64         \n",
      " 9   BILLERS_COUNT      184217 non-null  int64         \n",
      " 10  QUARTER            184217 non-null  int64         \n",
      " 11  YEAR               184217 non-null  int64         \n",
      " 12  Quarter_timestamp  184217 non-null  period[Q-DEC] \n",
      "dtypes: datetime64[ns](1), float64(2), int64(8), object(1), period[Q-DEC](1)\n",
      "memory usage: 18.3+ MB\n"
     ]
    }
   ],
   "source": [
    "#update MONTH_CD with a datetime datatype\n",
    "raw_df['MONTH_CD'] = pd.to_datetime(raw_df['MONTH_CD'], format='%Y%m')\n",
    "\n",
    "#creating new column for quarters\n",
    "qs = raw_df[\"MONTH_CD\"]\n",
    "raw_df['Quarter_timestamp'] = pd.PeriodIndex(qs, freq='Q')\n",
    "\n",
    "#view the dataframe information to cindirm the datatypes\n",
    "raw_df.info()"
   ]
  },
  {
   "cell_type": "markdown",
   "id": "72330e26",
   "metadata": {},
   "source": [
    "### Data Filtering"
   ]
  },
  {
   "cell_type": "code",
   "execution_count": 15,
   "id": "8073bfec",
   "metadata": {},
   "outputs": [],
   "source": [
    "#filter data by only the 3rd quarter of 2022 \n",
    "raw_df = raw_df[raw_df[\"Quarter_timestamp\"]==\"2022Q3\"]"
   ]
  },
  {
   "cell_type": "markdown",
   "id": "2a8c3c37",
   "metadata": {},
   "source": [
    "### Feature Engineering"
   ]
  },
  {
   "cell_type": "code",
   "execution_count": 16,
   "id": "648dc823",
   "metadata": {},
   "outputs": [
    {
     "data": {
      "text/plain": [
       "ACCOUNT_CODE\n",
       "1       18.29\n",
       "2       25.86\n",
       "3       45.91\n",
       "4        2.43\n",
       "5       12.03\n",
       "        ...  \n",
       "996      8.49\n",
       "997      7.16\n",
       "998     14.88\n",
       "999     16.31\n",
       "1000    25.54\n",
       "Name: TRX_CNT, Length: 998, dtype: float64"
      ]
     },
     "execution_count": 16,
     "metadata": {},
     "output_type": "execute_result"
    }
   ],
   "source": [
    "#create the Frequency feature as the average no. of transactions per day (3 months)\n",
    "acc_freq = raw_df.groupby([\"ACCOUNT_CODE\"])[\"TRX_CNT\"].sum().div(90).round(2)\n",
    "acc_freq"
   ]
  },
  {
   "cell_type": "code",
   "execution_count": 17,
   "id": "d49a57c5",
   "metadata": {},
   "outputs": [
    {
     "data": {
      "text/plain": [
       "ACCOUNT_CODE\n",
       "1        416.93\n",
       "2        972.65\n",
       "3       3613.67\n",
       "4        631.43\n",
       "5        603.51\n",
       "         ...   \n",
       "996      602.65\n",
       "997      314.23\n",
       "998      521.90\n",
       "999     1202.70\n",
       "1000     885.66\n",
       "Name: TRX_AMT, Length: 998, dtype: float64"
      ]
     },
     "execution_count": 17,
     "metadata": {},
     "output_type": "execute_result"
    }
   ],
   "source": [
    "#create the Monetary feature as the average no. of transactions per day (3 months)\n",
    "acc_mon = raw_df.groupby([\"ACCOUNT_CODE\"])[\"TRX_AMT\"].sum().div(90).round(2)\n",
    "acc_mon"
   ]
  },
  {
   "cell_type": "code",
   "execution_count": 18,
   "id": "e9a054a5",
   "metadata": {},
   "outputs": [
    {
     "data": {
      "text/plain": [
       "Merchant_Code\n",
       "1       0\n",
       "2       0\n",
       "3       0\n",
       "4       0\n",
       "5       0\n",
       "       ..\n",
       "996     0\n",
       "997     0\n",
       "998     0\n",
       "999     0\n",
       "1000    0\n",
       "Name: Recency, Length: 998, dtype: int64"
      ]
     },
     "execution_count": 18,
     "metadata": {},
     "output_type": "execute_result"
    }
   ],
   "source": [
    "#group merchants and choose the most recent transaction date for each\n",
    "df_recency = raw_df.groupby(by='ACCOUNT_CODE',as_index=False)['MONTH_CD'].max()\n",
    "\n",
    "#label the columns\n",
    "df_recency.columns = ['Merchant_Code', 'LastPurchaseDate']\n",
    "\n",
    "#find the most recent date in the dataframe and create a recency column by calculatin the diffrence\n",
    "recent_date = df_recency['LastPurchaseDate'].max()\n",
    "df_recency['Recency'] = df_recency['LastPurchaseDate'].apply(\n",
    "    lambda x: (recent_date - x).days)\n",
    "acc_rec = df_recency.groupby(\"Merchant_Code\")[\"Recency\"].sum()\n",
    "acc_rec"
   ]
  },
  {
   "cell_type": "code",
   "execution_count": 19,
   "id": "be9a585c",
   "metadata": {},
   "outputs": [
    {
     "data": {
      "text/html": [
       "<div>\n",
       "<style scoped>\n",
       "    .dataframe tbody tr th:only-of-type {\n",
       "        vertical-align: middle;\n",
       "    }\n",
       "\n",
       "    .dataframe tbody tr th {\n",
       "        vertical-align: top;\n",
       "    }\n",
       "\n",
       "    .dataframe thead th {\n",
       "        text-align: right;\n",
       "    }\n",
       "</style>\n",
       "<table border=\"1\" class=\"dataframe\">\n",
       "  <thead>\n",
       "    <tr style=\"text-align: right;\">\n",
       "      <th></th>\n",
       "      <th>Recency</th>\n",
       "      <th>Frequency</th>\n",
       "      <th>Monetary</th>\n",
       "    </tr>\n",
       "    <tr>\n",
       "      <th>Merchant_Code</th>\n",
       "      <th></th>\n",
       "      <th></th>\n",
       "      <th></th>\n",
       "    </tr>\n",
       "  </thead>\n",
       "  <tbody>\n",
       "    <tr>\n",
       "      <th>1</th>\n",
       "      <td>0</td>\n",
       "      <td>18.29</td>\n",
       "      <td>416.93</td>\n",
       "    </tr>\n",
       "    <tr>\n",
       "      <th>2</th>\n",
       "      <td>0</td>\n",
       "      <td>25.86</td>\n",
       "      <td>972.65</td>\n",
       "    </tr>\n",
       "    <tr>\n",
       "      <th>3</th>\n",
       "      <td>0</td>\n",
       "      <td>45.91</td>\n",
       "      <td>3613.67</td>\n",
       "    </tr>\n",
       "    <tr>\n",
       "      <th>4</th>\n",
       "      <td>0</td>\n",
       "      <td>2.43</td>\n",
       "      <td>631.43</td>\n",
       "    </tr>\n",
       "    <tr>\n",
       "      <th>5</th>\n",
       "      <td>0</td>\n",
       "      <td>12.03</td>\n",
       "      <td>603.51</td>\n",
       "    </tr>\n",
       "    <tr>\n",
       "      <th>...</th>\n",
       "      <td>...</td>\n",
       "      <td>...</td>\n",
       "      <td>...</td>\n",
       "    </tr>\n",
       "    <tr>\n",
       "      <th>996</th>\n",
       "      <td>0</td>\n",
       "      <td>8.49</td>\n",
       "      <td>602.65</td>\n",
       "    </tr>\n",
       "    <tr>\n",
       "      <th>997</th>\n",
       "      <td>0</td>\n",
       "      <td>7.16</td>\n",
       "      <td>314.23</td>\n",
       "    </tr>\n",
       "    <tr>\n",
       "      <th>998</th>\n",
       "      <td>0</td>\n",
       "      <td>14.88</td>\n",
       "      <td>521.90</td>\n",
       "    </tr>\n",
       "    <tr>\n",
       "      <th>999</th>\n",
       "      <td>0</td>\n",
       "      <td>16.31</td>\n",
       "      <td>1202.70</td>\n",
       "    </tr>\n",
       "    <tr>\n",
       "      <th>1000</th>\n",
       "      <td>0</td>\n",
       "      <td>25.54</td>\n",
       "      <td>885.66</td>\n",
       "    </tr>\n",
       "  </tbody>\n",
       "</table>\n",
       "<p>998 rows × 3 columns</p>\n",
       "</div>"
      ],
      "text/plain": [
       "               Recency  Frequency  Monetary\n",
       "Merchant_Code                              \n",
       "1                    0      18.29    416.93\n",
       "2                    0      25.86    972.65\n",
       "3                    0      45.91   3613.67\n",
       "4                    0       2.43    631.43\n",
       "5                    0      12.03    603.51\n",
       "...                ...        ...       ...\n",
       "996                  0       8.49    602.65\n",
       "997                  0       7.16    314.23\n",
       "998                  0      14.88    521.90\n",
       "999                  0      16.31   1202.70\n",
       "1000                 0      25.54    885.66\n",
       "\n",
       "[998 rows x 3 columns]"
      ]
     },
     "execution_count": 19,
     "metadata": {},
     "output_type": "execute_result"
    }
   ],
   "source": [
    "#order the 3 features in a single dataframe with Merchant_Code as index\n",
    "rfm = pd.DataFrame({\"Recency\":acc_rec,\"Frequency\":acc_freq,\"Monetary\":acc_mon}, \n",
    "                   index = acc_rec.index)\n",
    "rfm"
   ]
  },
  {
   "cell_type": "code",
   "execution_count": 20,
   "id": "62c1924d",
   "metadata": {},
   "outputs": [
    {
     "data": {
      "text/plain": [
       "Recency      3.881547e+01\n",
       "Frequency    1.015547e+03\n",
       "Monetary     8.521020e+06\n",
       "dtype: float64"
      ]
     },
     "execution_count": 20,
     "metadata": {},
     "output_type": "execute_result"
    }
   ],
   "source": [
    "#print the variance for each feature (column)\n",
    "rfm.var()"
   ]
  },
  {
   "cell_type": "code",
   "execution_count": 21,
   "id": "9383732e",
   "metadata": {},
   "outputs": [
    {
     "data": {
      "image/png": "[encoded data removed]",
      "text/plain": [
       "<Figure size 432x288 with 1 Axes>"
      ]
     },
     "metadata": {
      "needs_background": "light"
     },
     "output_type": "display_data"
    }
   ],
   "source": [
    "#draw histogram for Monetary and save the chart as jpeg\n",
    "sns.histplot(rfm[\"Monetary\"],kde=True)\n",
    "plt.savefig('monetary_hist.jpeg',bbox_inches=\"tight\",pad_inches=0.6)"
   ]
  },
  {
   "cell_type": "code",
   "execution_count": 22,
   "id": "ca411b3f",
   "metadata": {},
   "outputs": [
    {
     "data": {
      "image/png": "[encoded data removed]",
      "text/plain": [
       "<Figure size 432x288 with 1 Axes>"
      ]
     },
     "metadata": {
      "needs_background": "light"
     },
     "output_type": "display_data"
    }
   ],
   "source": [
    "#draw histogram for Frequency and save the chart as jpeg\n",
    "sns.histplot(rfm[\"Frequency\"],kde=True)\n",
    "plt.savefig('frequency_hist.jpeg',bbox_inches=\"tight\",pad_inches=0.6)"
   ]
  },
  {
   "cell_type": "code",
   "execution_count": 23,
   "id": "912c56ef",
   "metadata": {},
   "outputs": [],
   "source": [
    "#apply log transformation to normalize the data\n",
    "rfm = rfm[[\"Frequency\",\"Monetary\"]].apply(lambda x: np.log(x+1))"
   ]
  },
  {
   "cell_type": "code",
   "execution_count": 24,
   "id": "5ed5b601",
   "metadata": {},
   "outputs": [
    {
     "data": {
      "text/html": [
       "<div>\n",
       "<style scoped>\n",
       "    .dataframe tbody tr th:only-of-type {\n",
       "        vertical-align: middle;\n",
       "    }\n",
       "\n",
       "    .dataframe tbody tr th {\n",
       "        vertical-align: top;\n",
       "    }\n",
       "\n",
       "    .dataframe thead th {\n",
       "        text-align: right;\n",
       "    }\n",
       "</style>\n",
       "<table border=\"1\" class=\"dataframe\">\n",
       "  <thead>\n",
       "    <tr style=\"text-align: right;\">\n",
       "      <th></th>\n",
       "      <th>Frequency</th>\n",
       "      <th>Monetary</th>\n",
       "      <th>Recency</th>\n",
       "    </tr>\n",
       "    <tr>\n",
       "      <th>Merchant_Code</th>\n",
       "      <th></th>\n",
       "      <th></th>\n",
       "      <th></th>\n",
       "    </tr>\n",
       "  </thead>\n",
       "  <tbody>\n",
       "    <tr>\n",
       "      <th>1</th>\n",
       "      <td>2.959587</td>\n",
       "      <td>6.035314</td>\n",
       "      <td>0</td>\n",
       "    </tr>\n",
       "    <tr>\n",
       "      <th>2</th>\n",
       "      <td>3.290638</td>\n",
       "      <td>6.881052</td>\n",
       "      <td>0</td>\n",
       "    </tr>\n",
       "    <tr>\n",
       "      <th>3</th>\n",
       "      <td>3.848231</td>\n",
       "      <td>8.192756</td>\n",
       "      <td>0</td>\n",
       "    </tr>\n",
       "    <tr>\n",
       "      <th>4</th>\n",
       "      <td>1.232560</td>\n",
       "      <td>6.449570</td>\n",
       "      <td>0</td>\n",
       "    </tr>\n",
       "    <tr>\n",
       "      <th>5</th>\n",
       "      <td>2.567254</td>\n",
       "      <td>6.404418</td>\n",
       "      <td>0</td>\n",
       "    </tr>\n",
       "    <tr>\n",
       "      <th>...</th>\n",
       "      <td>...</td>\n",
       "      <td>...</td>\n",
       "      <td>...</td>\n",
       "    </tr>\n",
       "    <tr>\n",
       "      <th>996</th>\n",
       "      <td>2.250239</td>\n",
       "      <td>6.402995</td>\n",
       "      <td>0</td>\n",
       "    </tr>\n",
       "    <tr>\n",
       "      <th>997</th>\n",
       "      <td>2.099244</td>\n",
       "      <td>5.753303</td>\n",
       "      <td>0</td>\n",
       "    </tr>\n",
       "    <tr>\n",
       "      <th>998</th>\n",
       "      <td>2.765060</td>\n",
       "      <td>6.259390</td>\n",
       "      <td>0</td>\n",
       "    </tr>\n",
       "    <tr>\n",
       "      <th>999</th>\n",
       "      <td>2.851284</td>\n",
       "      <td>7.093155</td>\n",
       "      <td>0</td>\n",
       "    </tr>\n",
       "    <tr>\n",
       "      <th>1000</th>\n",
       "      <td>3.278653</td>\n",
       "      <td>6.787462</td>\n",
       "      <td>0</td>\n",
       "    </tr>\n",
       "  </tbody>\n",
       "</table>\n",
       "<p>998 rows × 3 columns</p>\n",
       "</div>"
      ],
      "text/plain": [
       "               Frequency  Monetary  Recency\n",
       "Merchant_Code                              \n",
       "1               2.959587  6.035314        0\n",
       "2               3.290638  6.881052        0\n",
       "3               3.848231  8.192756        0\n",
       "4               1.232560  6.449570        0\n",
       "5               2.567254  6.404418        0\n",
       "...                  ...       ...      ...\n",
       "996             2.250239  6.402995        0\n",
       "997             2.099244  5.753303        0\n",
       "998             2.765060  6.259390        0\n",
       "999             2.851284  7.093155        0\n",
       "1000            3.278653  6.787462        0\n",
       "\n",
       "[998 rows x 3 columns]"
      ]
     },
     "execution_count": 24,
     "metadata": {},
     "output_type": "execute_result"
    }
   ],
   "source": [
    "#add the Recency column back to the features after normaliztion\n",
    "rfm[\"Recency\"] = acc_rec\n",
    "rfm"
   ]
  },
  {
   "cell_type": "code",
   "execution_count": 25,
   "id": "3023e705",
   "metadata": {},
   "outputs": [
    {
     "data": {
      "text/plain": [
       "Frequency     0.872110\n",
       "Monetary      1.299304\n",
       "Recency      38.815473\n",
       "dtype: float64"
      ]
     },
     "execution_count": 25,
     "metadata": {},
     "output_type": "execute_result"
    }
   ],
   "source": [
    "#examining the variance for the features after normalization\n",
    "rfm.var()"
   ]
  },
  {
   "cell_type": "code",
   "execution_count": 26,
   "id": "2c5a0af6",
   "metadata": {},
   "outputs": [
    {
     "data": {
      "image/png": "[encoded data removed]",
      "text/plain": [
       "<Figure size 432x288 with 1 Axes>"
      ]
     },
     "metadata": {
      "needs_background": "light"
     },
     "output_type": "display_data"
    }
   ],
   "source": [
    "#draw histogram for Monetary after normalization and save the chart as jpeg\n",
    "sns.histplot(rfm[\"Monetary\"],kde=True)\n",
    "plt.savefig('log_monetary_hist.jpeg',bbox_inches=\"tight\",pad_inches=0.6)"
   ]
  },
  {
   "cell_type": "code",
   "execution_count": 27,
   "id": "87084e21",
   "metadata": {},
   "outputs": [
    {
     "data": {
      "image/png": "[encoded data removed]",
      "text/plain": [
       "<Figure size 432x288 with 1 Axes>"
      ]
     },
     "metadata": {
      "needs_background": "light"
     },
     "output_type": "display_data"
    }
   ],
   "source": [
    "#draw histogram for Frequency after normalization and save the chart as jpeg\n",
    "sns.histplot(rfm[\"Frequency\"],kde=True)\n",
    "plt.savefig('log_frequency_hist.jpeg',bbox_inches=\"tight\",pad_inches=0.6)"
   ]
  },
  {
   "cell_type": "code",
   "execution_count": 28,
   "id": "d17193b6",
   "metadata": {},
   "outputs": [
    {
     "data": {
      "text/html": [
       "<div>\n",
       "<style scoped>\n",
       "    .dataframe tbody tr th:only-of-type {\n",
       "        vertical-align: middle;\n",
       "    }\n",
       "\n",
       "    .dataframe tbody tr th {\n",
       "        vertical-align: top;\n",
       "    }\n",
       "\n",
       "    .dataframe thead th {\n",
       "        text-align: right;\n",
       "    }\n",
       "</style>\n",
       "<table border=\"1\" class=\"dataframe\">\n",
       "  <thead>\n",
       "    <tr style=\"text-align: right;\">\n",
       "      <th></th>\n",
       "      <th>Frequency</th>\n",
       "      <th>Monetary</th>\n",
       "      <th>Recency</th>\n",
       "    </tr>\n",
       "    <tr>\n",
       "      <th>Merchant_Code</th>\n",
       "      <th></th>\n",
       "      <th></th>\n",
       "      <th></th>\n",
       "    </tr>\n",
       "  </thead>\n",
       "  <tbody>\n",
       "    <tr>\n",
       "      <th>1</th>\n",
       "      <td>2.959587</td>\n",
       "      <td>6.035314</td>\n",
       "      <td>0</td>\n",
       "    </tr>\n",
       "    <tr>\n",
       "      <th>2</th>\n",
       "      <td>3.290638</td>\n",
       "      <td>6.881052</td>\n",
       "      <td>0</td>\n",
       "    </tr>\n",
       "    <tr>\n",
       "      <th>3</th>\n",
       "      <td>3.848231</td>\n",
       "      <td>8.192756</td>\n",
       "      <td>0</td>\n",
       "    </tr>\n",
       "    <tr>\n",
       "      <th>4</th>\n",
       "      <td>1.232560</td>\n",
       "      <td>6.449570</td>\n",
       "      <td>0</td>\n",
       "    </tr>\n",
       "    <tr>\n",
       "      <th>5</th>\n",
       "      <td>2.567254</td>\n",
       "      <td>6.404418</td>\n",
       "      <td>0</td>\n",
       "    </tr>\n",
       "    <tr>\n",
       "      <th>...</th>\n",
       "      <td>...</td>\n",
       "      <td>...</td>\n",
       "      <td>...</td>\n",
       "    </tr>\n",
       "    <tr>\n",
       "      <th>996</th>\n",
       "      <td>2.250239</td>\n",
       "      <td>6.402995</td>\n",
       "      <td>0</td>\n",
       "    </tr>\n",
       "    <tr>\n",
       "      <th>997</th>\n",
       "      <td>2.099244</td>\n",
       "      <td>5.753303</td>\n",
       "      <td>0</td>\n",
       "    </tr>\n",
       "    <tr>\n",
       "      <th>998</th>\n",
       "      <td>2.765060</td>\n",
       "      <td>6.259390</td>\n",
       "      <td>0</td>\n",
       "    </tr>\n",
       "    <tr>\n",
       "      <th>999</th>\n",
       "      <td>2.851284</td>\n",
       "      <td>7.093155</td>\n",
       "      <td>0</td>\n",
       "    </tr>\n",
       "    <tr>\n",
       "      <th>1000</th>\n",
       "      <td>3.278653</td>\n",
       "      <td>6.787462</td>\n",
       "      <td>0</td>\n",
       "    </tr>\n",
       "  </tbody>\n",
       "</table>\n",
       "<p>998 rows × 3 columns</p>\n",
       "</div>"
      ],
      "text/plain": [
       "               Frequency  Monetary  Recency\n",
       "Merchant_Code                              \n",
       "1               2.959587  6.035314        0\n",
       "2               3.290638  6.881052        0\n",
       "3               3.848231  8.192756        0\n",
       "4               1.232560  6.449570        0\n",
       "5               2.567254  6.404418        0\n",
       "...                  ...       ...      ...\n",
       "996             2.250239  6.402995        0\n",
       "997             2.099244  5.753303        0\n",
       "998             2.765060  6.259390        0\n",
       "999             2.851284  7.093155        0\n",
       "1000            3.278653  6.787462        0\n",
       "\n",
       "[998 rows x 3 columns]"
      ]
     },
     "execution_count": 28,
     "metadata": {},
     "output_type": "execute_result"
    }
   ],
   "source": [
    "rfm"
   ]
  },
  {
   "cell_type": "markdown",
   "id": "f840783d",
   "metadata": {},
   "source": [
    "## Methodology"
   ]
  },
  {
   "cell_type": "markdown",
   "id": "db773455",
   "metadata": {},
   "source": [
    "### PHASE1"
   ]
  },
  {
   "cell_type": "markdown",
   "id": "a4f41f65",
   "metadata": {},
   "source": [
    "### K-Means"
   ]
  },
  {
   "cell_type": "code",
   "execution_count": 29,
   "id": "36669196",
   "metadata": {},
   "outputs": [
    {
     "data": {
      "text/plain": [
       "Text(0.5, 1.0, 'Davies Bouldin score vs. K')"
      ]
     },
     "execution_count": 29,
     "metadata": {},
     "output_type": "execute_result"
    },
    {
     "data": {
      "image/png": "[encoded data removed]",
      "text/plain": [
       "<Figure size 432x288 with 1 Axes>"
      ]
     },
     "metadata": {
      "needs_background": "light"
     },
     "output_type": "display_data"
    }
   ],
   "source": [
    "# Davies Bouldin score for K means\n",
    "from sklearn.metrics import davies_bouldin_score\n",
    "def get_kmeans_score(data, center):\n",
    "    #instantiate kmeans\n",
    "    kmeans = KMeans(n_clusters=center)\n",
    "    # Then fit the model to your data using the fit method\n",
    "    model = kmeans.fit_predict(rfm)\n",
    "    \n",
    "    # Calculate Davies Bouldin score\n",
    "    score = davies_bouldin_score(rfm, model)\n",
    "    \n",
    "    return score\n",
    "#create a list to store scores and loop through values from 2 to 29\n",
    "scores = []\n",
    "centers = list(range(2,30))\n",
    "for center in centers:\n",
    "    scores.append(get_kmeans_score(rfm, center))\n",
    "\n",
    "#plot scores against centers values\n",
    "plt.plot(centers, scores, linestyle='--', marker='o', color='b');\n",
    "plt.xlabel('K');\n",
    "plt.ylabel('Davies Bouldin score');\n",
    "plt.title('Davies Bouldin score vs. K')"
   ]
  },
  {
   "cell_type": "code",
   "execution_count": 30,
   "id": "1a61c7a3",
   "metadata": {},
   "outputs": [
    {
     "data": {
      "image/png": "[encoded data removed]",
      "text/plain": [
       "<Figure size 432x288 with 1 Axes>"
      ]
     },
     "metadata": {
      "needs_background": "light"
     },
     "output_type": "display_data"
    }
   ],
   "source": [
    "#create lists for each metric used\n",
    "inertias = []\n",
    "silhouette_avg = []\n",
    "ch_score_kmeans = []\n",
    "\n",
    "#loop through values of k, eachtime training the model with a new k and append the metrics scores\n",
    "for i in range(2,11):\n",
    "    kmeans = KMeans(n_clusters=i)\n",
    "    kmeans.fit(rfm)\n",
    "    inertias.append(kmeans.inertia_)\n",
    "    cluster_labels = kmeans.labels_\n",
    "    silhouette_avg.append(silhouette_score(rfm, cluster_labels))\n",
    "    ch_score_kmeans.append(metrics.calinski_harabasz_score(rfm, kmeans.labels_))\n",
    "\n",
    "#plot the inertia against the numbers of k\n",
    "plt.plot(range(2,11), inertias, marker='*',c=\"r\")\n",
    "plt.title('Elbow method')\n",
    "plt.xlabel('Number of clusters')\n",
    "plt.ylabel('Inertia')\n",
    "plt.show()"
   ]
  },
  {
   "cell_type": "code",
   "execution_count": 31,
   "id": "8d2bc9b3",
   "metadata": {},
   "outputs": [
    {
     "data": {
      "image/png": "[encoded data removed]",
      "text/plain": [
       "<Figure size 432x288 with 1 Axes>"
      ]
     },
     "metadata": {
      "needs_background": "light"
     },
     "output_type": "display_data"
    }
   ],
   "source": [
    "#plot the silhouette score against the numbers of k\n",
    "plt.plot(range(2,11),silhouette_avg)\n",
    "plt.xlabel(\"Values of K\") \n",
    "plt.ylabel('Silhouette score') \n",
    "plt.title('Silhouette analysis For Optimal k')\n",
    "plt.show()"
   ]
  },
  {
   "cell_type": "code",
   "execution_count": 32,
   "id": "00863c09",
   "metadata": {},
   "outputs": [
    {
     "data": {
      "image/png": "[encoded data removed]",
      "text/plain": [
       "<Figure size 432x288 with 1 Axes>"
      ]
     },
     "metadata": {
      "needs_background": "light"
     },
     "output_type": "display_data"
    }
   ],
   "source": [
    "#plot the Calinski Harabasz Score against the numbers of k\n",
    "plt.plot(range(2,11),ch_score_kmeans)\n",
    "plt.xlabel(\"Values of K\") \n",
    "plt.ylabel('Calinski Harabasz Score') \n",
    "plt.title('Calinski Harabasz')\n",
    "plt.show()"
   ]
  },
  {
   "cell_type": "code",
   "execution_count": 33,
   "id": "28b5d473",
   "metadata": {},
   "outputs": [],
   "source": [
    "#train the nodel with the chosen k=3\n",
    "modell = KMeans(n_clusters=3,init= \"k-means++\", random_state=40)\n",
    "m = modell.fit_predict(rfm)"
   ]
  },
  {
   "cell_type": "code",
   "execution_count": 34,
   "id": "ca093121",
   "metadata": {},
   "outputs": [
    {
     "name": "stdout",
     "output_type": "stream",
     "text": [
      "Silhouette score:  0.9433675430378398\n",
      "Calinski Harabasz Score:  9346.327105888326\n",
      "Davies Bouldin Score:  0.08085932131523112\n"
     ]
    }
   ],
   "source": [
    "#create a list for the metrics scores for the model\n",
    "k1 = [silhouette_score(rfm, modell.labels_, metric='euclidean'),\n",
    "      metrics.calinski_harabasz_score(rfm, modell.labels_),\n",
    "      davies_bouldin_score(rfm, modell.labels_)]\n",
    "print(\"Silhouette score: \",k1[0])\n",
    "print(\"Calinski Harabasz Score: \", k1[1])\n",
    "print(\"Davies Bouldin Score: \",k1[2])"
   ]
  },
  {
   "cell_type": "code",
   "execution_count": 35,
   "id": "f1cbd589",
   "metadata": {},
   "outputs": [
    {
     "data": {
      "text/html": [
       "<div>\n",
       "<style scoped>\n",
       "    .dataframe tbody tr th:only-of-type {\n",
       "        vertical-align: middle;\n",
       "    }\n",
       "\n",
       "    .dataframe tbody tr th {\n",
       "        vertical-align: top;\n",
       "    }\n",
       "\n",
       "    .dataframe thead th {\n",
       "        text-align: right;\n",
       "    }\n",
       "</style>\n",
       "<table border=\"1\" class=\"dataframe\">\n",
       "  <thead>\n",
       "    <tr style=\"text-align: right;\">\n",
       "      <th></th>\n",
       "      <th>Frequency</th>\n",
       "      <th>Monetary</th>\n",
       "      <th>Recency</th>\n",
       "      <th>Cluster</th>\n",
       "    </tr>\n",
       "    <tr>\n",
       "      <th>Merchant_Code</th>\n",
       "      <th></th>\n",
       "      <th></th>\n",
       "      <th></th>\n",
       "      <th></th>\n",
       "    </tr>\n",
       "  </thead>\n",
       "  <tbody>\n",
       "    <tr>\n",
       "      <th>1</th>\n",
       "      <td>2.959587</td>\n",
       "      <td>6.035314</td>\n",
       "      <td>0</td>\n",
       "      <td>0</td>\n",
       "    </tr>\n",
       "    <tr>\n",
       "      <th>2</th>\n",
       "      <td>3.290638</td>\n",
       "      <td>6.881052</td>\n",
       "      <td>0</td>\n",
       "      <td>0</td>\n",
       "    </tr>\n",
       "    <tr>\n",
       "      <th>3</th>\n",
       "      <td>3.848231</td>\n",
       "      <td>8.192756</td>\n",
       "      <td>0</td>\n",
       "      <td>0</td>\n",
       "    </tr>\n",
       "    <tr>\n",
       "      <th>4</th>\n",
       "      <td>1.232560</td>\n",
       "      <td>6.449570</td>\n",
       "      <td>0</td>\n",
       "      <td>0</td>\n",
       "    </tr>\n",
       "    <tr>\n",
       "      <th>5</th>\n",
       "      <td>2.567254</td>\n",
       "      <td>6.404418</td>\n",
       "      <td>0</td>\n",
       "      <td>0</td>\n",
       "    </tr>\n",
       "  </tbody>\n",
       "</table>\n",
       "</div>"
      ],
      "text/plain": [
       "               Frequency  Monetary  Recency  Cluster\n",
       "Merchant_Code                                       \n",
       "1               2.959587  6.035314        0        0\n",
       "2               3.290638  6.881052        0        0\n",
       "3               3.848231  8.192756        0        0\n",
       "4               1.232560  6.449570        0        0\n",
       "5               2.567254  6.404418        0        0"
      ]
     },
     "execution_count": 35,
     "metadata": {},
     "output_type": "execute_result"
    }
   ],
   "source": [
    "#update the dataframe with Cluster field containing clustering labels\n",
    "rfm[\"Cluster\"] = modell.labels_\n",
    "rfm.head()"
   ]
  },
  {
   "cell_type": "code",
   "execution_count": 36,
   "id": "9ffa3292",
   "metadata": {},
   "outputs": [
    {
     "data": {
      "image/png": "[encoded data removed]",
      "text/plain": [
       "<Figure size 432x288 with 1 Axes>"
      ]
     },
     "metadata": {
      "needs_background": "light"
     },
     "output_type": "display_data"
    }
   ],
   "source": [
    "#3d plot the data and colored by the cluster label\n",
    "fig = plt.figure()\n",
    "ax = plt.axes(projection='3d')\n",
    "scatt = ax.scatter(rfm[\"Recency\"],rfm[\"Frequency\"], rfm[\"Monetary\"], c=modell.labels_ , \n",
    "                   cmap='viridis', linewidth=0.5, label = [0,1,2,3])\n",
    "ax.legend(*scatt.legend_elements(),loc=\"best\", title=\"Classes\")\n",
    "ax.set_xlabel('Recency')\n",
    "ax.set_ylabel('Frequency')\n",
    "ax.set_zlabel('Monetary')\n",
    "plt.show()"
   ]
  },
  {
   "cell_type": "code",
   "execution_count": 37,
   "id": "bccbd28f",
   "metadata": {},
   "outputs": [
    {
     "data": {
      "image/png": "[encoded data removed]",
      "text/plain": [
       "<Figure size 432x288 with 1 Axes>"
      ]
     },
     "metadata": {
      "needs_background": "light"
     },
     "output_type": "display_data"
    }
   ],
   "source": [
    "#2d plot the data and colored by the cluster label\n",
    "\n",
    "plt.scatter(rfm[\"Frequency\"], rfm[\"Monetary\"], c=modell.labels_ , cmap='viridis', \n",
    "            linewidth=0.5, label = [0,1,2,3] )\n",
    "plt.legend(*scatt.legend_elements(),loc=\"lower right\", title=\"Classes\")\n",
    "plt.xlabel(\"Frequency\")\n",
    "plt.ylabel(\"Monetary\")\n",
    "plt.show()"
   ]
  },
  {
   "cell_type": "code",
   "execution_count": 38,
   "id": "f12659af",
   "metadata": {},
   "outputs": [
    {
     "data": {
      "text/plain": [
       "0    978\n",
       "2     13\n",
       "1      7\n",
       "Name: Cluster, dtype: int64"
      ]
     },
     "execution_count": 38,
     "metadata": {},
     "output_type": "execute_result"
    }
   ],
   "source": [
    "#print the distribution of clusters\n",
    "rfm.Cluster.value_counts()"
   ]
  },
  {
   "cell_type": "code",
   "execution_count": 39,
   "id": "45f7edc4",
   "metadata": {},
   "outputs": [
    {
     "data": {
      "text/html": [
       "<div>\n",
       "<style scoped>\n",
       "    .dataframe tbody tr th:only-of-type {\n",
       "        vertical-align: middle;\n",
       "    }\n",
       "\n",
       "    .dataframe tbody tr th {\n",
       "        vertical-align: top;\n",
       "    }\n",
       "\n",
       "    .dataframe thead th {\n",
       "        text-align: right;\n",
       "    }\n",
       "</style>\n",
       "<table border=\"1\" class=\"dataframe\">\n",
       "  <thead>\n",
       "    <tr style=\"text-align: right;\">\n",
       "      <th></th>\n",
       "      <th>Frequency</th>\n",
       "      <th>Monetary</th>\n",
       "      <th>Recency</th>\n",
       "      <th>Cluster</th>\n",
       "    </tr>\n",
       "    <tr>\n",
       "      <th>Merchant_Code</th>\n",
       "      <th></th>\n",
       "      <th></th>\n",
       "      <th></th>\n",
       "      <th></th>\n",
       "    </tr>\n",
       "  </thead>\n",
       "  <tbody>\n",
       "    <tr>\n",
       "      <th>1</th>\n",
       "      <td>2.959587</td>\n",
       "      <td>6.035314</td>\n",
       "      <td>0</td>\n",
       "      <td>0</td>\n",
       "    </tr>\n",
       "    <tr>\n",
       "      <th>2</th>\n",
       "      <td>3.290638</td>\n",
       "      <td>6.881052</td>\n",
       "      <td>0</td>\n",
       "      <td>0</td>\n",
       "    </tr>\n",
       "    <tr>\n",
       "      <th>3</th>\n",
       "      <td>3.848231</td>\n",
       "      <td>8.192756</td>\n",
       "      <td>0</td>\n",
       "      <td>0</td>\n",
       "    </tr>\n",
       "    <tr>\n",
       "      <th>4</th>\n",
       "      <td>1.232560</td>\n",
       "      <td>6.449570</td>\n",
       "      <td>0</td>\n",
       "      <td>0</td>\n",
       "    </tr>\n",
       "    <tr>\n",
       "      <th>5</th>\n",
       "      <td>2.567254</td>\n",
       "      <td>6.404418</td>\n",
       "      <td>0</td>\n",
       "      <td>0</td>\n",
       "    </tr>\n",
       "    <tr>\n",
       "      <th>...</th>\n",
       "      <td>...</td>\n",
       "      <td>...</td>\n",
       "      <td>...</td>\n",
       "      <td>...</td>\n",
       "    </tr>\n",
       "    <tr>\n",
       "      <th>996</th>\n",
       "      <td>2.250239</td>\n",
       "      <td>6.402995</td>\n",
       "      <td>0</td>\n",
       "      <td>0</td>\n",
       "    </tr>\n",
       "    <tr>\n",
       "      <th>997</th>\n",
       "      <td>2.099244</td>\n",
       "      <td>5.753303</td>\n",
       "      <td>0</td>\n",
       "      <td>0</td>\n",
       "    </tr>\n",
       "    <tr>\n",
       "      <th>998</th>\n",
       "      <td>2.765060</td>\n",
       "      <td>6.259390</td>\n",
       "      <td>0</td>\n",
       "      <td>0</td>\n",
       "    </tr>\n",
       "    <tr>\n",
       "      <th>999</th>\n",
       "      <td>2.851284</td>\n",
       "      <td>7.093155</td>\n",
       "      <td>0</td>\n",
       "      <td>0</td>\n",
       "    </tr>\n",
       "    <tr>\n",
       "      <th>1000</th>\n",
       "      <td>3.278653</td>\n",
       "      <td>6.787462</td>\n",
       "      <td>0</td>\n",
       "      <td>0</td>\n",
       "    </tr>\n",
       "  </tbody>\n",
       "</table>\n",
       "<p>998 rows × 4 columns</p>\n",
       "</div>"
      ],
      "text/plain": [
       "               Frequency  Monetary  Recency  Cluster\n",
       "Merchant_Code                                       \n",
       "1               2.959587  6.035314        0        0\n",
       "2               3.290638  6.881052        0        0\n",
       "3               3.848231  8.192756        0        0\n",
       "4               1.232560  6.449570        0        0\n",
       "5               2.567254  6.404418        0        0\n",
       "...                  ...       ...      ...      ...\n",
       "996             2.250239  6.402995        0        0\n",
       "997             2.099244  5.753303        0        0\n",
       "998             2.765060  6.259390        0        0\n",
       "999             2.851284  7.093155        0        0\n",
       "1000            3.278653  6.787462        0        0\n",
       "\n",
       "[998 rows x 4 columns]"
      ]
     },
     "execution_count": 39,
     "metadata": {},
     "output_type": "execute_result"
    }
   ],
   "source": [
    "rfm"
   ]
  },
  {
   "cell_type": "code",
   "execution_count": 40,
   "id": "6bbbf548",
   "metadata": {},
   "outputs": [
    {
     "data": {
      "text/html": [
       "<div>\n",
       "<style scoped>\n",
       "    .dataframe tbody tr th:only-of-type {\n",
       "        vertical-align: middle;\n",
       "    }\n",
       "\n",
       "    .dataframe tbody tr th {\n",
       "        vertical-align: top;\n",
       "    }\n",
       "\n",
       "    .dataframe thead th {\n",
       "        text-align: right;\n",
       "    }\n",
       "</style>\n",
       "<table border=\"1\" class=\"dataframe\">\n",
       "  <thead>\n",
       "    <tr style=\"text-align: right;\">\n",
       "      <th></th>\n",
       "      <th>Frequency</th>\n",
       "      <th>Monetary</th>\n",
       "      <th>Recency</th>\n",
       "    </tr>\n",
       "    <tr>\n",
       "      <th>Merchant_Code</th>\n",
       "      <th></th>\n",
       "      <th></th>\n",
       "      <th></th>\n",
       "    </tr>\n",
       "  </thead>\n",
       "  <tbody>\n",
       "    <tr>\n",
       "      <th>1</th>\n",
       "      <td>2.959587</td>\n",
       "      <td>6.035314</td>\n",
       "      <td>0</td>\n",
       "    </tr>\n",
       "    <tr>\n",
       "      <th>2</th>\n",
       "      <td>3.290638</td>\n",
       "      <td>6.881052</td>\n",
       "      <td>0</td>\n",
       "    </tr>\n",
       "    <tr>\n",
       "      <th>3</th>\n",
       "      <td>3.848231</td>\n",
       "      <td>8.192756</td>\n",
       "      <td>0</td>\n",
       "    </tr>\n",
       "    <tr>\n",
       "      <th>4</th>\n",
       "      <td>1.232560</td>\n",
       "      <td>6.449570</td>\n",
       "      <td>0</td>\n",
       "    </tr>\n",
       "    <tr>\n",
       "      <th>5</th>\n",
       "      <td>2.567254</td>\n",
       "      <td>6.404418</td>\n",
       "      <td>0</td>\n",
       "    </tr>\n",
       "    <tr>\n",
       "      <th>...</th>\n",
       "      <td>...</td>\n",
       "      <td>...</td>\n",
       "      <td>...</td>\n",
       "    </tr>\n",
       "    <tr>\n",
       "      <th>996</th>\n",
       "      <td>2.250239</td>\n",
       "      <td>6.402995</td>\n",
       "      <td>0</td>\n",
       "    </tr>\n",
       "    <tr>\n",
       "      <th>997</th>\n",
       "      <td>2.099244</td>\n",
       "      <td>5.753303</td>\n",
       "      <td>0</td>\n",
       "    </tr>\n",
       "    <tr>\n",
       "      <th>998</th>\n",
       "      <td>2.765060</td>\n",
       "      <td>6.259390</td>\n",
       "      <td>0</td>\n",
       "    </tr>\n",
       "    <tr>\n",
       "      <th>999</th>\n",
       "      <td>2.851284</td>\n",
       "      <td>7.093155</td>\n",
       "      <td>0</td>\n",
       "    </tr>\n",
       "    <tr>\n",
       "      <th>1000</th>\n",
       "      <td>3.278653</td>\n",
       "      <td>6.787462</td>\n",
       "      <td>0</td>\n",
       "    </tr>\n",
       "  </tbody>\n",
       "</table>\n",
       "<p>998 rows × 3 columns</p>\n",
       "</div>"
      ],
      "text/plain": [
       "               Frequency  Monetary  Recency\n",
       "Merchant_Code                              \n",
       "1               2.959587  6.035314        0\n",
       "2               3.290638  6.881052        0\n",
       "3               3.848231  8.192756        0\n",
       "4               1.232560  6.449570        0\n",
       "5               2.567254  6.404418        0\n",
       "...                  ...       ...      ...\n",
       "996             2.250239  6.402995        0\n",
       "997             2.099244  5.753303        0\n",
       "998             2.765060  6.259390        0\n",
       "999             2.851284  7.093155        0\n",
       "1000            3.278653  6.787462        0\n",
       "\n",
       "[998 rows x 3 columns]"
      ]
     },
     "execution_count": 40,
     "metadata": {},
     "output_type": "execute_result"
    }
   ],
   "source": [
    "rfm = rfm.drop(\"Cluster\", axis=1)\n",
    "rfm"
   ]
  },
  {
   "cell_type": "markdown",
   "id": "37b083c8",
   "metadata": {},
   "source": [
    "### Gaussian Mixture Model (GMM)"
   ]
  },
  {
   "cell_type": "code",
   "execution_count": 41,
   "id": "68ba693c",
   "metadata": {},
   "outputs": [
    {
     "data": {
      "text/html": [
       "<div>\n",
       "<style scoped>\n",
       "    .dataframe tbody tr th:only-of-type {\n",
       "        vertical-align: middle;\n",
       "    }\n",
       "\n",
       "    .dataframe tbody tr th {\n",
       "        vertical-align: top;\n",
       "    }\n",
       "\n",
       "    .dataframe thead th {\n",
       "        text-align: right;\n",
       "    }\n",
       "</style>\n",
       "<table border=\"1\" class=\"dataframe\">\n",
       "  <thead>\n",
       "    <tr style=\"text-align: right;\">\n",
       "      <th></th>\n",
       "      <th>Frequency</th>\n",
       "      <th>Monetary</th>\n",
       "      <th>Recency</th>\n",
       "    </tr>\n",
       "    <tr>\n",
       "      <th>Merchant_Code</th>\n",
       "      <th></th>\n",
       "      <th></th>\n",
       "      <th></th>\n",
       "    </tr>\n",
       "  </thead>\n",
       "  <tbody>\n",
       "    <tr>\n",
       "      <th>1</th>\n",
       "      <td>2.959587</td>\n",
       "      <td>6.035314</td>\n",
       "      <td>0</td>\n",
       "    </tr>\n",
       "    <tr>\n",
       "      <th>2</th>\n",
       "      <td>3.290638</td>\n",
       "      <td>6.881052</td>\n",
       "      <td>0</td>\n",
       "    </tr>\n",
       "    <tr>\n",
       "      <th>3</th>\n",
       "      <td>3.848231</td>\n",
       "      <td>8.192756</td>\n",
       "      <td>0</td>\n",
       "    </tr>\n",
       "    <tr>\n",
       "      <th>4</th>\n",
       "      <td>1.232560</td>\n",
       "      <td>6.449570</td>\n",
       "      <td>0</td>\n",
       "    </tr>\n",
       "    <tr>\n",
       "      <th>5</th>\n",
       "      <td>2.567254</td>\n",
       "      <td>6.404418</td>\n",
       "      <td>0</td>\n",
       "    </tr>\n",
       "    <tr>\n",
       "      <th>...</th>\n",
       "      <td>...</td>\n",
       "      <td>...</td>\n",
       "      <td>...</td>\n",
       "    </tr>\n",
       "    <tr>\n",
       "      <th>996</th>\n",
       "      <td>2.250239</td>\n",
       "      <td>6.402995</td>\n",
       "      <td>0</td>\n",
       "    </tr>\n",
       "    <tr>\n",
       "      <th>997</th>\n",
       "      <td>2.099244</td>\n",
       "      <td>5.753303</td>\n",
       "      <td>0</td>\n",
       "    </tr>\n",
       "    <tr>\n",
       "      <th>998</th>\n",
       "      <td>2.765060</td>\n",
       "      <td>6.259390</td>\n",
       "      <td>0</td>\n",
       "    </tr>\n",
       "    <tr>\n",
       "      <th>999</th>\n",
       "      <td>2.851284</td>\n",
       "      <td>7.093155</td>\n",
       "      <td>0</td>\n",
       "    </tr>\n",
       "    <tr>\n",
       "      <th>1000</th>\n",
       "      <td>3.278653</td>\n",
       "      <td>6.787462</td>\n",
       "      <td>0</td>\n",
       "    </tr>\n",
       "  </tbody>\n",
       "</table>\n",
       "<p>998 rows × 3 columns</p>\n",
       "</div>"
      ],
      "text/plain": [
       "               Frequency  Monetary  Recency\n",
       "Merchant_Code                              \n",
       "1               2.959587  6.035314        0\n",
       "2               3.290638  6.881052        0\n",
       "3               3.848231  8.192756        0\n",
       "4               1.232560  6.449570        0\n",
       "5               2.567254  6.404418        0\n",
       "...                  ...       ...      ...\n",
       "996             2.250239  6.402995        0\n",
       "997             2.099244  5.753303        0\n",
       "998             2.765060  6.259390        0\n",
       "999             2.851284  7.093155        0\n",
       "1000            3.278653  6.787462        0\n",
       "\n",
       "[998 rows x 3 columns]"
      ]
     },
     "execution_count": 41,
     "metadata": {},
     "output_type": "execute_result"
    }
   ],
   "source": [
    "rfm"
   ]
  },
  {
   "cell_type": "code",
   "execution_count": 42,
   "id": "8231b2fa",
   "metadata": {},
   "outputs": [],
   "source": [
    "#create instance of the model and fit the model on the data \n",
    "\n",
    "gmm_model = GaussianMixture(n_components=3, random_state=40)\n",
    "cluster_labels = gmm_model.fit_predict(rfm)\n"
   ]
  },
  {
   "cell_type": "code",
   "execution_count": 43,
   "id": "48f3a690",
   "metadata": {},
   "outputs": [
    {
     "name": "stdout",
     "output_type": "stream",
     "text": [
      "Silhouette score:  0.9433675430378398\n",
      "Calinski Harabasz Score:  9346.327105888326\n",
      "Davies Bouldin Score:  0.08085932131523112\n"
     ]
    }
   ],
   "source": [
    "#create a list for the metrics scores for the model\n",
    "gmm1 = [silhouette_score(rfm, cluster_labels),\n",
    "        metrics.calinski_harabasz_score(rfm, cluster_labels),\n",
    "        davies_bouldin_score(rfm, cluster_labels)]\n",
    "print(\"Silhouette score: \",gmm1[0])\n",
    "print(\"Calinski Harabasz Score: \", gmm1[1])\n",
    "print(\"Davies Bouldin Score: \",gmm1[2])"
   ]
  },
  {
   "cell_type": "code",
   "execution_count": 44,
   "id": "f74b4d93",
   "metadata": {},
   "outputs": [
    {
     "data": {
      "image/png": "[encoded data removed]",
      "text/plain": [
       "<Figure size 432x288 with 1 Axes>"
      ]
     },
     "metadata": {
      "needs_background": "light"
     },
     "output_type": "display_data"
    }
   ],
   "source": [
    "#3d plot the data and colored by the cluster label\n",
    "fig = plt.figure()\n",
    "ax = plt.axes(projection='3d')\n",
    "scatt = ax.scatter(rfm[\"Recency\"],rfm[\"Frequency\"], rfm[\"Monetary\"], \n",
    "                   c=cluster_labels , cmap='viridis', linewidth=0.5, label = [0,1,2,3])\n",
    "ax.legend(*scatt.legend_elements(),loc=\"best\", title=\"Classes\")\n",
    "ax.set_xlabel('Recency')\n",
    "ax.set_ylabel('Frequency')\n",
    "ax.set_zlabel('Monetary')\n",
    "plt.show()"
   ]
  },
  {
   "cell_type": "code",
   "execution_count": 45,
   "id": "590a708e",
   "metadata": {},
   "outputs": [
    {
     "data": {
      "image/png": "[encoded data removed]",
      "text/plain": [
       "<Figure size 432x288 with 1 Axes>"
      ]
     },
     "metadata": {
      "needs_background": "light"
     },
     "output_type": "display_data"
    }
   ],
   "source": [
    "#2d plot the data and colored by the cluster label\n",
    "\n",
    "plt.scatter(rfm[\"Frequency\"], rfm[\"Monetary\"], c=cluster_labels ,  \n",
    "            linewidth=0.5, label = [0,1,2,3] )\n",
    "plt.legend(*scatt.legend_elements(),loc=\"lower right\", title=\"Classes\")\n",
    "plt.xlabel(\"Frequency\")\n",
    "plt.ylabel(\"Monetary\")\n",
    "plt.show()"
   ]
  },
  {
   "cell_type": "code",
   "execution_count": 46,
   "id": "292efa40",
   "metadata": {},
   "outputs": [
    {
     "data": {
      "image/png": "[encoded data removed]",
      "text/plain": [
       "<Figure size 864x504 with 1 Axes>"
      ]
     },
     "metadata": {
      "needs_background": "light"
     },
     "output_type": "display_data"
    }
   ],
   "source": [
    "#compare between both models in all metrics\n",
    "figure(num=None, figsize=(12, 7))\n",
    "\n",
    "Labels=['Silhouette score', \"Calinski Harabasz Score\", 'Davies Bouldin Score']\n",
    "y_pos=np.arange(len(Labels))\n",
    "\n",
    "plt.bar(y_pos + 0.4,k1 ,width=0.2, color =\"#bc5090\"  , label='K-Means')\n",
    "plt.bar(y_pos + 0.6,gmm1 ,width=0.2, color = '#58508d' , label='GMM')\n",
    "\n",
    "plt.xticks(y_pos, Labels)\n",
    "plt.yscale('log')\n",
    "plt.legend(('K-Means', 'GMM'))\n",
    "plt.ylabel('Value in log10 scale')\n",
    "plt.xlabel('Metrics')\n",
    "plt.title(\"Models Evaluation\")\n",
    "plt.show()"
   ]
  },
  {
   "cell_type": "code",
   "execution_count": 47,
   "id": "abd14830",
   "metadata": {},
   "outputs": [
    {
     "data": {
      "text/plain": [
       "0    978\n",
       "2     13\n",
       "1      7\n",
       "Name: cluster, dtype: int64"
      ]
     },
     "execution_count": 47,
     "metadata": {},
     "output_type": "execute_result"
    }
   ],
   "source": [
    "#add the label for each merchant after phase1 clustering\n",
    "rfm['cluster'] = modell.labels_\n",
    "rfm.cluster.value_counts()"
   ]
  },
  {
   "cell_type": "code",
   "execution_count": 48,
   "id": "5b3c5023",
   "metadata": {},
   "outputs": [],
   "source": [
    "#label encoding the clusters labels\n",
    "rfm[\"cluster\"] = rfm[\"cluster\"].replace(2,\"low risk\")\n",
    "rfm[\"cluster\"] = rfm[\"cluster\"].replace(1,\"high risk\")"
   ]
  },
  {
   "cell_type": "markdown",
   "id": "c602651b",
   "metadata": {},
   "source": [
    "# PHASE2"
   ]
  },
  {
   "cell_type": "markdown",
   "id": "8b26dc74",
   "metadata": {},
   "source": [
    "### data Filtering"
   ]
  },
  {
   "cell_type": "code",
   "execution_count": 50,
   "id": "b9690c02",
   "metadata": {},
   "outputs": [
    {
     "data": {
      "text/html": [
       "<div>\n",
       "<style scoped>\n",
       "    .dataframe tbody tr th:only-of-type {\n",
       "        vertical-align: middle;\n",
       "    }\n",
       "\n",
       "    .dataframe tbody tr th {\n",
       "        vertical-align: top;\n",
       "    }\n",
       "\n",
       "    .dataframe thead th {\n",
       "        text-align: right;\n",
       "    }\n",
       "</style>\n",
       "<table border=\"1\" class=\"dataframe\">\n",
       "  <thead>\n",
       "    <tr style=\"text-align: right;\">\n",
       "      <th></th>\n",
       "      <th>Frequency</th>\n",
       "      <th>Monetary</th>\n",
       "      <th>Recency</th>\n",
       "    </tr>\n",
       "    <tr>\n",
       "      <th>Merchant_Code</th>\n",
       "      <th></th>\n",
       "      <th></th>\n",
       "      <th></th>\n",
       "    </tr>\n",
       "  </thead>\n",
       "  <tbody>\n",
       "    <tr>\n",
       "      <th>1</th>\n",
       "      <td>2.959587</td>\n",
       "      <td>6.035314</td>\n",
       "      <td>0</td>\n",
       "    </tr>\n",
       "    <tr>\n",
       "      <th>2</th>\n",
       "      <td>3.290638</td>\n",
       "      <td>6.881052</td>\n",
       "      <td>0</td>\n",
       "    </tr>\n",
       "    <tr>\n",
       "      <th>3</th>\n",
       "      <td>3.848231</td>\n",
       "      <td>8.192756</td>\n",
       "      <td>0</td>\n",
       "    </tr>\n",
       "    <tr>\n",
       "      <th>4</th>\n",
       "      <td>1.232560</td>\n",
       "      <td>6.449570</td>\n",
       "      <td>0</td>\n",
       "    </tr>\n",
       "    <tr>\n",
       "      <th>5</th>\n",
       "      <td>2.567254</td>\n",
       "      <td>6.404418</td>\n",
       "      <td>0</td>\n",
       "    </tr>\n",
       "    <tr>\n",
       "      <th>...</th>\n",
       "      <td>...</td>\n",
       "      <td>...</td>\n",
       "      <td>...</td>\n",
       "    </tr>\n",
       "    <tr>\n",
       "      <th>996</th>\n",
       "      <td>2.250239</td>\n",
       "      <td>6.402995</td>\n",
       "      <td>0</td>\n",
       "    </tr>\n",
       "    <tr>\n",
       "      <th>997</th>\n",
       "      <td>2.099244</td>\n",
       "      <td>5.753303</td>\n",
       "      <td>0</td>\n",
       "    </tr>\n",
       "    <tr>\n",
       "      <th>998</th>\n",
       "      <td>2.765060</td>\n",
       "      <td>6.259390</td>\n",
       "      <td>0</td>\n",
       "    </tr>\n",
       "    <tr>\n",
       "      <th>999</th>\n",
       "      <td>2.851284</td>\n",
       "      <td>7.093155</td>\n",
       "      <td>0</td>\n",
       "    </tr>\n",
       "    <tr>\n",
       "      <th>1000</th>\n",
       "      <td>3.278653</td>\n",
       "      <td>6.787462</td>\n",
       "      <td>0</td>\n",
       "    </tr>\n",
       "  </tbody>\n",
       "</table>\n",
       "<p>978 rows × 3 columns</p>\n",
       "</div>"
      ],
      "text/plain": [
       "               Frequency  Monetary  Recency\n",
       "Merchant_Code                              \n",
       "1               2.959587  6.035314        0\n",
       "2               3.290638  6.881052        0\n",
       "3               3.848231  8.192756        0\n",
       "4               1.232560  6.449570        0\n",
       "5               2.567254  6.404418        0\n",
       "...                  ...       ...      ...\n",
       "996             2.250239  6.402995        0\n",
       "997             2.099244  5.753303        0\n",
       "998             2.765060  6.259390        0\n",
       "999             2.851284  7.093155        0\n",
       "1000            3.278653  6.787462        0\n",
       "\n",
       "[978 rows x 3 columns]"
      ]
     },
     "execution_count": 50,
     "metadata": {},
     "output_type": "execute_result"
    }
   ],
   "source": [
    "#filter data and choose only most recent merchants (cluster 0)\n",
    "rfm_0 = rfm[rfm[\"cluster\"]==0]\n",
    "rfm_0 =  rfm_0.drop(\"cluster\",axis=1)\n",
    "rfm_0"
   ]
  },
  {
   "cell_type": "markdown",
   "id": "78dadcd8",
   "metadata": {},
   "source": [
    "### DBSCAN"
   ]
  },
  {
   "cell_type": "code",
   "execution_count": 51,
   "id": "399a1bd9",
   "metadata": {},
   "outputs": [],
   "source": [
    "# NearestNeighbors function requires n_neighbors (number of neighbors) parameter, \n",
    "#which can be same as the minPts value. \n",
    "nbrs = NearestNeighbors(n_neighbors=4).fit(rfm_0)\n",
    "# Find the k-neighbors of a point \n",
    "neigh_dist, neigh_ind = nbrs.kneighbors(rfm_0)\n",
    "# sort the neighbor distances (lengths to points) in ascending order\n",
    "# axis = 0 represents sort along first axis i.e. sort along row\n",
    "sort_neigh_dist = np.sort(neigh_dist, axis=0)"
   ]
  },
  {
   "cell_type": "code",
   "execution_count": 52,
   "id": "59cb224e",
   "metadata": {},
   "outputs": [
    {
     "data": {
      "image/png": "[encoded data removed]",
      "text/plain": [
       "<Figure size 432x288 with 1 Axes>"
      ]
     },
     "metadata": {
      "needs_background": "light"
     },
     "output_type": "display_data"
    }
   ],
   "source": [
    "#plot the k-nn distance to find the KNEE for eps parameter\n",
    "k_dist = sort_neigh_dist[:, 3]\n",
    "plt.plot(rfm_0.index,k_dist)\n",
    "plt.axhline(y=0.35, linewidth=1, linestyle='dashed', color='k')\n",
    "plt.ylabel(\"k-NN distance\")\n",
    "plt.xlabel(\"Sorted observations (4th NN)\")\n",
    "plt.show()"
   ]
  },
  {
   "cell_type": "code",
   "execution_count": 53,
   "id": "da9a5030",
   "metadata": {},
   "outputs": [
    {
     "data": {
      "text/html": [
       "<div>\n",
       "<style scoped>\n",
       "    .dataframe tbody tr th:only-of-type {\n",
       "        vertical-align: middle;\n",
       "    }\n",
       "\n",
       "    .dataframe tbody tr th {\n",
       "        vertical-align: top;\n",
       "    }\n",
       "\n",
       "    .dataframe thead th {\n",
       "        text-align: right;\n",
       "    }\n",
       "</style>\n",
       "<table border=\"1\" class=\"dataframe\">\n",
       "  <thead>\n",
       "    <tr style=\"text-align: right;\">\n",
       "      <th></th>\n",
       "      <th>Frequency</th>\n",
       "      <th>Monetary</th>\n",
       "      <th>Recency</th>\n",
       "    </tr>\n",
       "    <tr>\n",
       "      <th>Merchant_Code</th>\n",
       "      <th></th>\n",
       "      <th></th>\n",
       "      <th></th>\n",
       "    </tr>\n",
       "  </thead>\n",
       "  <tbody>\n",
       "    <tr>\n",
       "      <th>1</th>\n",
       "      <td>2.959587</td>\n",
       "      <td>6.035314</td>\n",
       "      <td>0</td>\n",
       "    </tr>\n",
       "    <tr>\n",
       "      <th>2</th>\n",
       "      <td>3.290638</td>\n",
       "      <td>6.881052</td>\n",
       "      <td>0</td>\n",
       "    </tr>\n",
       "    <tr>\n",
       "      <th>3</th>\n",
       "      <td>3.848231</td>\n",
       "      <td>8.192756</td>\n",
       "      <td>0</td>\n",
       "    </tr>\n",
       "    <tr>\n",
       "      <th>4</th>\n",
       "      <td>1.232560</td>\n",
       "      <td>6.449570</td>\n",
       "      <td>0</td>\n",
       "    </tr>\n",
       "    <tr>\n",
       "      <th>5</th>\n",
       "      <td>2.567254</td>\n",
       "      <td>6.404418</td>\n",
       "      <td>0</td>\n",
       "    </tr>\n",
       "    <tr>\n",
       "      <th>...</th>\n",
       "      <td>...</td>\n",
       "      <td>...</td>\n",
       "      <td>...</td>\n",
       "    </tr>\n",
       "    <tr>\n",
       "      <th>996</th>\n",
       "      <td>2.250239</td>\n",
       "      <td>6.402995</td>\n",
       "      <td>0</td>\n",
       "    </tr>\n",
       "    <tr>\n",
       "      <th>997</th>\n",
       "      <td>2.099244</td>\n",
       "      <td>5.753303</td>\n",
       "      <td>0</td>\n",
       "    </tr>\n",
       "    <tr>\n",
       "      <th>998</th>\n",
       "      <td>2.765060</td>\n",
       "      <td>6.259390</td>\n",
       "      <td>0</td>\n",
       "    </tr>\n",
       "    <tr>\n",
       "      <th>999</th>\n",
       "      <td>2.851284</td>\n",
       "      <td>7.093155</td>\n",
       "      <td>0</td>\n",
       "    </tr>\n",
       "    <tr>\n",
       "      <th>1000</th>\n",
       "      <td>3.278653</td>\n",
       "      <td>6.787462</td>\n",
       "      <td>0</td>\n",
       "    </tr>\n",
       "  </tbody>\n",
       "</table>\n",
       "<p>978 rows × 3 columns</p>\n",
       "</div>"
      ],
      "text/plain": [
       "               Frequency  Monetary  Recency\n",
       "Merchant_Code                              \n",
       "1               2.959587  6.035314        0\n",
       "2               3.290638  6.881052        0\n",
       "3               3.848231  8.192756        0\n",
       "4               1.232560  6.449570        0\n",
       "5               2.567254  6.404418        0\n",
       "...                  ...       ...      ...\n",
       "996             2.250239  6.402995        0\n",
       "997             2.099244  5.753303        0\n",
       "998             2.765060  6.259390        0\n",
       "999             2.851284  7.093155        0\n",
       "1000            3.278653  6.787462        0\n",
       "\n",
       "[978 rows x 3 columns]"
      ]
     },
     "execution_count": 53,
     "metadata": {},
     "output_type": "execute_result"
    }
   ],
   "source": [
    "rfm_0"
   ]
  },
  {
   "cell_type": "code",
   "execution_count": 54,
   "id": "f1b880b9",
   "metadata": {},
   "outputs": [
    {
     "name": "stdout",
     "output_type": "stream",
     "text": [
      "Silhouette score:  0.5474322090814012\n",
      "Calinski Harabasz Score:  5.386739401235773\n",
      "Davies Bouldin Score:  5.386193977418863\n"
     ]
    }
   ],
   "source": [
    "#create an instance of the model \n",
    "clusters = DBSCAN(eps=0.35, min_samples=4).fit(rfm_0)\n",
    "\n",
    "#create a list for the metrics scores for the model\n",
    "db = [silhouette_score(rfm_0, clusters.labels_, metric='euclidean'),\n",
    "      metrics.calinski_harabasz_score(rfm_0, clusters.labels_),\n",
    "      davies_bouldin_score(rfm_0, clusters.labels_)]\n",
    "print(\"Silhouette score: \",db[0])\n",
    "print(\"Calinski Harabasz Score: \",db[1])\n",
    "print(\"Davies Bouldin Score: \",db[2])"
   ]
  },
  {
   "cell_type": "code",
   "execution_count": 55,
   "id": "f1669c1b",
   "metadata": {},
   "outputs": [
    {
     "data": {
      "text/plain": [
       "Counter({0: 964, -1: 14})"
      ]
     },
     "execution_count": 55,
     "metadata": {},
     "output_type": "execute_result"
    }
   ],
   "source": [
    "#print the frequency of clusters\n",
    "Counter(clusters.labels_)"
   ]
  },
  {
   "cell_type": "code",
   "execution_count": 56,
   "id": "91cf1a9f",
   "metadata": {},
   "outputs": [
    {
     "data": {
      "image/png": "[encoded data removed]",
      "text/plain": [
       "<Figure size 432x288 with 1 Axes>"
      ]
     },
     "metadata": {
      "needs_background": "light"
     },
     "output_type": "display_data"
    }
   ],
   "source": [
    "#plot the clusters\n",
    "p = sns.scatterplot(data=rfm_0, x=\"Frequency\", y=\"Monetary\", \n",
    "                    hue=clusters.labels_, legend=\"full\", palette=\"deep\")\n",
    "sns.move_legend(p, \"upper right\", bbox_to_anchor=(1.17, 1.2), title='Clusters')\n",
    "plt.show()"
   ]
  },
  {
   "cell_type": "markdown",
   "id": "d266d87d",
   "metadata": {},
   "source": []
  },
  {
   "cell_type": "markdown",
   "id": "caa8201f",
   "metadata": {},
   "source": [
    "### K-Means"
   ]
  },
  {
   "cell_type": "code",
   "execution_count": 57,
   "id": "7735f6d6",
   "metadata": {},
   "outputs": [
    {
     "data": {
      "image/png": "[encoded data removed]",
      "text/plain": [
       "<Figure size 432x288 with 1 Axes>"
      ]
     },
     "metadata": {
      "needs_background": "light"
     },
     "output_type": "display_data"
    }
   ],
   "source": [
    "#creating lists for the values needed\n",
    "inertias_0 = []\n",
    "silhouette_avg_0 = []\n",
    "davies_score = []\n",
    "\n",
    "#loop for k values and append metrics values to lists\n",
    "for i in range(2,11):\n",
    "    kmeans = KMeans(n_clusters=i)\n",
    "    kmeans.fit(rfm_0)\n",
    "    inertias_0.append(kmeans.inertia_)\n",
    "    cluster_labels_0 = kmeans.labels_\n",
    "    silhouette_avg_0.append(silhouette_score(rfm_0, cluster_labels_0))\n",
    "    davies_score.append(davies_bouldin_score(rfm_0, cluster_labels_0))\n",
    "    \n",
    "#plot the inertia for k values\n",
    "plt.plot(range(2,11), inertias_0, marker='*',c=\"r\")\n",
    "plt.title('Elbow method')\n",
    "plt.xlabel(\"Values of K\") \n",
    "plt.ylabel('Inertia')\n",
    "plt.show()"
   ]
  },
  {
   "cell_type": "code",
   "execution_count": 58,
   "id": "83ec8523",
   "metadata": {
    "scrolled": false
   },
   "outputs": [
    {
     "data": {
      "image/png": "[encoded data removed]",
      "text/plain": [
       "<Figure size 432x288 with 1 Axes>"
      ]
     },
     "metadata": {
      "needs_background": "light"
     },
     "output_type": "display_data"
    }
   ],
   "source": [
    "#plot the silhouette score for k values\n",
    "plt.plot(range(2,11),silhouette_avg_0)\n",
    "plt.xlabel(\"Values of K\") \n",
    "plt.ylabel('Silhouette score') \n",
    "plt.title('Silhouette analysis For Optimal k')\n",
    "plt.show()"
   ]
  },
  {
   "cell_type": "code",
   "execution_count": 59,
   "id": "1b75e761",
   "metadata": {},
   "outputs": [
    {
     "name": "stdout",
     "output_type": "stream",
     "text": [
      "Silhouette score:  0.36897657536215855\n",
      "Calinski Harabasz Score:  844.4894736259121\n",
      "Davies Bouldin Score:  0.8842259662337941\n"
     ]
    }
   ],
   "source": [
    "#create an instance of kmeans model and train it\n",
    "modell_0 = KMeans(n_clusters=4,init= \"k-means++\", random_state=40)\n",
    "m_0 = modell_0.fit_predict(rfm_0)\n",
    "\n",
    "#create a list for the metrics scores for the model\n",
    "k = [silhouette_score(rfm_0, modell_0.labels_, metric='euclidean'),\n",
    "     metrics.calinski_harabasz_score(rfm_0, modell_0.labels_),\n",
    "     davies_bouldin_score(rfm_0, modell_0.labels_)]\n",
    "print(\"Silhouette score: \",k[0])\n",
    "print(\"Calinski Harabasz Score: \", k[1])\n",
    "print(\"Davies Bouldin Score: \",k[2])"
   ]
  },
  {
   "cell_type": "code",
   "execution_count": 60,
   "id": "c1c84588",
   "metadata": {},
   "outputs": [
    {
     "data": {
      "image/png": "[encoded data removed]",
      "text/plain": [
       "<Figure size 432x288 with 1 Axes>"
      ]
     },
     "metadata": {
      "needs_background": "light"
     },
     "output_type": "display_data"
    }
   ],
   "source": [
    "#plot the clusters and color by the labels\n",
    "fig = plt.figure()\n",
    "ax = plt.axes()\n",
    "scatt = ax.scatter(rfm_0[\"Frequency\"], rfm_0[\"Monetary\"], c=modell_0.labels_ , \n",
    "                   cmap='viridis', linewidth=0.5, label = [0,1,2,3])\n",
    "ax.legend(*scatt.legend_elements(),loc=\"lower right\", title=\"Classes\")\n",
    "plt.xlabel(\"Frequency\")\n",
    "plt.ylabel(\"Monetary\")\n",
    "plt.show()"
   ]
  },
  {
   "cell_type": "code",
   "execution_count": 61,
   "id": "933ef316",
   "metadata": {},
   "outputs": [
    {
     "data": {
      "text/html": [
       "<div>\n",
       "<style scoped>\n",
       "    .dataframe tbody tr th:only-of-type {\n",
       "        vertical-align: middle;\n",
       "    }\n",
       "\n",
       "    .dataframe tbody tr th {\n",
       "        vertical-align: top;\n",
       "    }\n",
       "\n",
       "    .dataframe thead th {\n",
       "        text-align: right;\n",
       "    }\n",
       "</style>\n",
       "<table border=\"1\" class=\"dataframe\">\n",
       "  <thead>\n",
       "    <tr style=\"text-align: right;\">\n",
       "      <th></th>\n",
       "      <th>Frequency</th>\n",
       "      <th>Monetary</th>\n",
       "      <th>Recency</th>\n",
       "    </tr>\n",
       "    <tr>\n",
       "      <th>Merchant_Code</th>\n",
       "      <th></th>\n",
       "      <th></th>\n",
       "      <th></th>\n",
       "    </tr>\n",
       "  </thead>\n",
       "  <tbody>\n",
       "    <tr>\n",
       "      <th>1</th>\n",
       "      <td>2.959587</td>\n",
       "      <td>6.035314</td>\n",
       "      <td>0</td>\n",
       "    </tr>\n",
       "    <tr>\n",
       "      <th>2</th>\n",
       "      <td>3.290638</td>\n",
       "      <td>6.881052</td>\n",
       "      <td>0</td>\n",
       "    </tr>\n",
       "    <tr>\n",
       "      <th>3</th>\n",
       "      <td>3.848231</td>\n",
       "      <td>8.192756</td>\n",
       "      <td>0</td>\n",
       "    </tr>\n",
       "    <tr>\n",
       "      <th>4</th>\n",
       "      <td>1.232560</td>\n",
       "      <td>6.449570</td>\n",
       "      <td>0</td>\n",
       "    </tr>\n",
       "    <tr>\n",
       "      <th>5</th>\n",
       "      <td>2.567254</td>\n",
       "      <td>6.404418</td>\n",
       "      <td>0</td>\n",
       "    </tr>\n",
       "    <tr>\n",
       "      <th>...</th>\n",
       "      <td>...</td>\n",
       "      <td>...</td>\n",
       "      <td>...</td>\n",
       "    </tr>\n",
       "    <tr>\n",
       "      <th>996</th>\n",
       "      <td>2.250239</td>\n",
       "      <td>6.402995</td>\n",
       "      <td>0</td>\n",
       "    </tr>\n",
       "    <tr>\n",
       "      <th>997</th>\n",
       "      <td>2.099244</td>\n",
       "      <td>5.753303</td>\n",
       "      <td>0</td>\n",
       "    </tr>\n",
       "    <tr>\n",
       "      <th>998</th>\n",
       "      <td>2.765060</td>\n",
       "      <td>6.259390</td>\n",
       "      <td>0</td>\n",
       "    </tr>\n",
       "    <tr>\n",
       "      <th>999</th>\n",
       "      <td>2.851284</td>\n",
       "      <td>7.093155</td>\n",
       "      <td>0</td>\n",
       "    </tr>\n",
       "    <tr>\n",
       "      <th>1000</th>\n",
       "      <td>3.278653</td>\n",
       "      <td>6.787462</td>\n",
       "      <td>0</td>\n",
       "    </tr>\n",
       "  </tbody>\n",
       "</table>\n",
       "<p>978 rows × 3 columns</p>\n",
       "</div>"
      ],
      "text/plain": [
       "               Frequency  Monetary  Recency\n",
       "Merchant_Code                              \n",
       "1               2.959587  6.035314        0\n",
       "2               3.290638  6.881052        0\n",
       "3               3.848231  8.192756        0\n",
       "4               1.232560  6.449570        0\n",
       "5               2.567254  6.404418        0\n",
       "...                  ...       ...      ...\n",
       "996             2.250239  6.402995        0\n",
       "997             2.099244  5.753303        0\n",
       "998             2.765060  6.259390        0\n",
       "999             2.851284  7.093155        0\n",
       "1000            3.278653  6.787462        0\n",
       "\n",
       "[978 rows x 3 columns]"
      ]
     },
     "execution_count": 61,
     "metadata": {},
     "output_type": "execute_result"
    }
   ],
   "source": [
    "#drop the added label field for the next model\n",
    "rfm_0 = rfm_0.iloc[:,0:3]\n",
    "rfm_0"
   ]
  },
  {
   "cell_type": "markdown",
   "id": "5f289b0b",
   "metadata": {},
   "source": [
    "### Hierarchical Clustering"
   ]
  },
  {
   "cell_type": "code",
   "execution_count": 63,
   "id": "67234f0e",
   "metadata": {},
   "outputs": [
    {
     "data": {
      "text/html": [
       "<div>\n",
       "<style scoped>\n",
       "    .dataframe tbody tr th:only-of-type {\n",
       "        vertical-align: middle;\n",
       "    }\n",
       "\n",
       "    .dataframe tbody tr th {\n",
       "        vertical-align: top;\n",
       "    }\n",
       "\n",
       "    .dataframe thead th {\n",
       "        text-align: right;\n",
       "    }\n",
       "</style>\n",
       "<table border=\"1\" class=\"dataframe\">\n",
       "  <thead>\n",
       "    <tr style=\"text-align: right;\">\n",
       "      <th></th>\n",
       "      <th>Frequency</th>\n",
       "      <th>Monetary</th>\n",
       "      <th>Recency</th>\n",
       "    </tr>\n",
       "    <tr>\n",
       "      <th>Merchant_Code</th>\n",
       "      <th></th>\n",
       "      <th></th>\n",
       "      <th></th>\n",
       "    </tr>\n",
       "  </thead>\n",
       "  <tbody>\n",
       "    <tr>\n",
       "      <th>1</th>\n",
       "      <td>2.959587</td>\n",
       "      <td>6.035314</td>\n",
       "      <td>0</td>\n",
       "    </tr>\n",
       "    <tr>\n",
       "      <th>2</th>\n",
       "      <td>3.290638</td>\n",
       "      <td>6.881052</td>\n",
       "      <td>0</td>\n",
       "    </tr>\n",
       "    <tr>\n",
       "      <th>3</th>\n",
       "      <td>3.848231</td>\n",
       "      <td>8.192756</td>\n",
       "      <td>0</td>\n",
       "    </tr>\n",
       "    <tr>\n",
       "      <th>4</th>\n",
       "      <td>1.232560</td>\n",
       "      <td>6.449570</td>\n",
       "      <td>0</td>\n",
       "    </tr>\n",
       "    <tr>\n",
       "      <th>5</th>\n",
       "      <td>2.567254</td>\n",
       "      <td>6.404418</td>\n",
       "      <td>0</td>\n",
       "    </tr>\n",
       "    <tr>\n",
       "      <th>...</th>\n",
       "      <td>...</td>\n",
       "      <td>...</td>\n",
       "      <td>...</td>\n",
       "    </tr>\n",
       "    <tr>\n",
       "      <th>996</th>\n",
       "      <td>2.250239</td>\n",
       "      <td>6.402995</td>\n",
       "      <td>0</td>\n",
       "    </tr>\n",
       "    <tr>\n",
       "      <th>997</th>\n",
       "      <td>2.099244</td>\n",
       "      <td>5.753303</td>\n",
       "      <td>0</td>\n",
       "    </tr>\n",
       "    <tr>\n",
       "      <th>998</th>\n",
       "      <td>2.765060</td>\n",
       "      <td>6.259390</td>\n",
       "      <td>0</td>\n",
       "    </tr>\n",
       "    <tr>\n",
       "      <th>999</th>\n",
       "      <td>2.851284</td>\n",
       "      <td>7.093155</td>\n",
       "      <td>0</td>\n",
       "    </tr>\n",
       "    <tr>\n",
       "      <th>1000</th>\n",
       "      <td>3.278653</td>\n",
       "      <td>6.787462</td>\n",
       "      <td>0</td>\n",
       "    </tr>\n",
       "  </tbody>\n",
       "</table>\n",
       "<p>978 rows × 3 columns</p>\n",
       "</div>"
      ],
      "text/plain": [
       "               Frequency  Monetary  Recency\n",
       "Merchant_Code                              \n",
       "1               2.959587  6.035314        0\n",
       "2               3.290638  6.881052        0\n",
       "3               3.848231  8.192756        0\n",
       "4               1.232560  6.449570        0\n",
       "5               2.567254  6.404418        0\n",
       "...                  ...       ...      ...\n",
       "996             2.250239  6.402995        0\n",
       "997             2.099244  5.753303        0\n",
       "998             2.765060  6.259390        0\n",
       "999             2.851284  7.093155        0\n",
       "1000            3.278653  6.787462        0\n",
       "\n",
       "[978 rows x 3 columns]"
      ]
     },
     "execution_count": 63,
     "metadata": {},
     "output_type": "execute_result"
    }
   ],
   "source": [
    "rfm_0 = rfm_0.iloc[:,0:3]\n",
    "rfm_0"
   ]
  },
  {
   "cell_type": "code",
   "execution_count": 64,
   "id": "3dda3f64",
   "metadata": {},
   "outputs": [
    {
     "name": "stdout",
     "output_type": "stream",
     "text": [
      "Silhouette score:  0.3344922582961443\n",
      "Calinski Harabasz Score:  719.7313872288619\n",
      "Davies Bouldin Score:  0.9017079392019076\n"
     ]
    }
   ],
   "source": [
    "#create an instance of kmeans model and train it\n",
    "cluster = AgglomerativeClustering(n_clusters = 4, affinity = 'euclidean', linkage = 'ward')\n",
    ".fit_predict(rfm_0)\n",
    "score_hie = silhouette_score(rfm_0, cluster, metric='euclidean')\n",
    "\n",
    "#create a list for the metrics scores for the model\n",
    "hier = [score_hie,metrics.calinski_harabasz_score(rfm_0, cluster),\n",
    "        davies_bouldin_score(rfm_0, cluster)]\n",
    "print(\"Silhouette score: \",hier[0])\n",
    "print(\"Calinski Harabasz Score: \",hier[1] )\n",
    "print(\"Davies Bouldin Score: \",hier[2])"
   ]
  },
  {
   "cell_type": "code",
   "execution_count": 65,
   "id": "c2042b7f",
   "metadata": {},
   "outputs": [
    {
     "data": {
      "image/png": "[encoded data removed]",
      "text/plain": [
       "<Figure size 432x288 with 1 Axes>"
      ]
     },
     "metadata": {
      "needs_background": "light"
     },
     "output_type": "display_data"
    }
   ],
   "source": [
    "#plot the clusters and color by the labels\n",
    "fig = plt.figure()\n",
    "ax = plt.axes()\n",
    "scatt = ax.scatter(rfm_0[\"Frequency\"], rfm_0[\"Monetary\"], c=cluster, cmap='viridis', \n",
    "                   linewidth=0.5, label = [0,1,2,3])\n",
    "ax.legend(*scatt.legend_elements(),loc=\"lower right\", title=\"Classes\")\n",
    "plt.xlabel(\"Frequency\")\n",
    "plt.ylabel(\"Monetary\")\n",
    "plt.show()"
   ]
  },
  {
   "cell_type": "code",
   "execution_count": 66,
   "id": "e99cee8b",
   "metadata": {},
   "outputs": [
    {
     "data": {
      "text/plain": [
       "Counter({2: 123, 3: 244, 0: 354, 1: 257})"
      ]
     },
     "execution_count": 66,
     "metadata": {},
     "output_type": "execute_result"
    }
   ],
   "source": [
    "#print frequency of each cluster\n",
    "Counter(cluster)"
   ]
  },
  {
   "cell_type": "code",
   "execution_count": 67,
   "id": "414ba1ad",
   "metadata": {},
   "outputs": [
    {
     "data": {
      "text/html": [
       "<div>\n",
       "<style scoped>\n",
       "    .dataframe tbody tr th:only-of-type {\n",
       "        vertical-align: middle;\n",
       "    }\n",
       "\n",
       "    .dataframe tbody tr th {\n",
       "        vertical-align: top;\n",
       "    }\n",
       "\n",
       "    .dataframe thead th {\n",
       "        text-align: right;\n",
       "    }\n",
       "</style>\n",
       "<table border=\"1\" class=\"dataframe\">\n",
       "  <thead>\n",
       "    <tr style=\"text-align: right;\">\n",
       "      <th></th>\n",
       "      <th>Frequency</th>\n",
       "      <th>Monetary</th>\n",
       "      <th>Recency</th>\n",
       "    </tr>\n",
       "    <tr>\n",
       "      <th>Merchant_Code</th>\n",
       "      <th></th>\n",
       "      <th></th>\n",
       "      <th></th>\n",
       "    </tr>\n",
       "  </thead>\n",
       "  <tbody>\n",
       "    <tr>\n",
       "      <th>1</th>\n",
       "      <td>2.959587</td>\n",
       "      <td>6.035314</td>\n",
       "      <td>0</td>\n",
       "    </tr>\n",
       "    <tr>\n",
       "      <th>2</th>\n",
       "      <td>3.290638</td>\n",
       "      <td>6.881052</td>\n",
       "      <td>0</td>\n",
       "    </tr>\n",
       "    <tr>\n",
       "      <th>3</th>\n",
       "      <td>3.848231</td>\n",
       "      <td>8.192756</td>\n",
       "      <td>0</td>\n",
       "    </tr>\n",
       "    <tr>\n",
       "      <th>4</th>\n",
       "      <td>1.232560</td>\n",
       "      <td>6.449570</td>\n",
       "      <td>0</td>\n",
       "    </tr>\n",
       "    <tr>\n",
       "      <th>5</th>\n",
       "      <td>2.567254</td>\n",
       "      <td>6.404418</td>\n",
       "      <td>0</td>\n",
       "    </tr>\n",
       "    <tr>\n",
       "      <th>...</th>\n",
       "      <td>...</td>\n",
       "      <td>...</td>\n",
       "      <td>...</td>\n",
       "    </tr>\n",
       "    <tr>\n",
       "      <th>996</th>\n",
       "      <td>2.250239</td>\n",
       "      <td>6.402995</td>\n",
       "      <td>0</td>\n",
       "    </tr>\n",
       "    <tr>\n",
       "      <th>997</th>\n",
       "      <td>2.099244</td>\n",
       "      <td>5.753303</td>\n",
       "      <td>0</td>\n",
       "    </tr>\n",
       "    <tr>\n",
       "      <th>998</th>\n",
       "      <td>2.765060</td>\n",
       "      <td>6.259390</td>\n",
       "      <td>0</td>\n",
       "    </tr>\n",
       "    <tr>\n",
       "      <th>999</th>\n",
       "      <td>2.851284</td>\n",
       "      <td>7.093155</td>\n",
       "      <td>0</td>\n",
       "    </tr>\n",
       "    <tr>\n",
       "      <th>1000</th>\n",
       "      <td>3.278653</td>\n",
       "      <td>6.787462</td>\n",
       "      <td>0</td>\n",
       "    </tr>\n",
       "  </tbody>\n",
       "</table>\n",
       "<p>978 rows × 3 columns</p>\n",
       "</div>"
      ],
      "text/plain": [
       "               Frequency  Monetary  Recency\n",
       "Merchant_Code                              \n",
       "1               2.959587  6.035314        0\n",
       "2               3.290638  6.881052        0\n",
       "3               3.848231  8.192756        0\n",
       "4               1.232560  6.449570        0\n",
       "5               2.567254  6.404418        0\n",
       "...                  ...       ...      ...\n",
       "996             2.250239  6.402995        0\n",
       "997             2.099244  5.753303        0\n",
       "998             2.765060  6.259390        0\n",
       "999             2.851284  7.093155        0\n",
       "1000            3.278653  6.787462        0\n",
       "\n",
       "[978 rows x 3 columns]"
      ]
     },
     "execution_count": 67,
     "metadata": {},
     "output_type": "execute_result"
    }
   ],
   "source": [
    "#drop the added label field for the next model\n",
    "rfm_0 = rfm_0.iloc[:,0:3]\n",
    "rfm_0"
   ]
  },
  {
   "cell_type": "markdown",
   "id": "7dc44535",
   "metadata": {},
   "source": [
    "### Gaussian Mixture Model (GMM)"
   ]
  },
  {
   "cell_type": "code",
   "execution_count": 68,
   "id": "b506ec9f",
   "metadata": {},
   "outputs": [],
   "source": [
    "#create an instance of kmeans model and train it\n",
    "gmm_model = GaussianMixture(n_components=4, random_state=40)\n",
    "cluster_labels_0 = gmm_model.fit_predict(rfm_0)\n"
   ]
  },
  {
   "cell_type": "code",
   "execution_count": 69,
   "id": "0a0056fb",
   "metadata": {},
   "outputs": [
    {
     "name": "stdout",
     "output_type": "stream",
     "text": [
      "Silhouette score:  0.33425176260874506\n",
      "Calinski Harabasz Score:  716.0831610163069\n",
      "Davies Bouldin Score:  0.9351276006688437\n"
     ]
    }
   ],
   "source": [
    "#create a list for the metrics scores for the model\n",
    "gmm = [silhouette_score(rfm_0, cluster_labels_0), \n",
    "       metrics.calinski_harabasz_score(rfm_0, cluster_labels_0),\n",
    "       davies_bouldin_score(rfm_0, cluster_labels_0)]\n",
    "print(\"Silhouette score: \",gmm[0])\n",
    "print(\"Calinski Harabasz Score: \",gmm[1])\n",
    "print(\"Davies Bouldin Score: \",gmm[2])"
   ]
  },
  {
   "cell_type": "code",
   "execution_count": 70,
   "id": "b794e401",
   "metadata": {},
   "outputs": [
    {
     "data": {
      "image/png": "[encoded data removed]",
      "text/plain": [
       "<Figure size 432x288 with 1 Axes>"
      ]
     },
     "metadata": {
      "needs_background": "light"
     },
     "output_type": "display_data"
    }
   ],
   "source": [
    "#plot the clusters and color by the labels\n",
    "fig = plt.figure()\n",
    "ax = plt.axes()\n",
    "scatt = ax.scatter(rfm_0[\"Frequency\"], rfm_0[\"Monetary\"], c=cluster_labels_0 , \n",
    "                   cmap='viridis', linewidth=0.5, label = [0,1,2,3])\n",
    "ax.legend(*scatt.legend_elements(),loc=\"lower right\", title=\"Classes\")\n",
    "plt.xlabel(\"Frequency\")\n",
    "plt.ylabel(\"Monetary\")\n",
    "plt.show()"
   ]
  },
  {
   "cell_type": "code",
   "execution_count": 71,
   "id": "6647fc67",
   "metadata": {},
   "outputs": [
    {
     "data": {
      "image/png": "[encoded data removed]",
      "text/plain": [
       "<Figure size 864x504 with 1 Axes>"
      ]
     },
     "metadata": {
      "needs_background": "light"
     },
     "output_type": "display_data"
    }
   ],
   "source": [
    "#compare between both models in all metrics\n",
    "figure(num=None, figsize=(12, 7))\n",
    "\n",
    "Labels=['Silhouette score', \"Calinski Harabasz Score\", 'Davies Bouldin Score']\n",
    "y_pos=np.arange(len(Labels))\n",
    "plt.bar(y_pos + 0, db,width=0.2, color = \"#ffa600\" , label='DBSCAN')\n",
    "plt.bar(y_pos + 0.2, hier, width=0.2, color = '#ff6361', label = 'Hierarchal Clustering')\n",
    "plt.bar(y_pos + 0.4, k,width=0.2, color =\"#bc5090\"  , label='K-Means')\n",
    "plt.bar(y_pos + 0.6, gmm,width=0.2, color = '#58508d' , label='GMM')\n",
    "\n",
    "plt.xticks(y_pos+0.3, Labels)\n",
    "plt.yscale('log')\n",
    "plt.legend(('DBSCAN','Hierarchal Clustering', 'K-Means', 'GMM'))\n",
    "plt.ylabel('Value in log10 scale')\n",
    "plt.xlabel('Metrics')\n",
    "plt.title(\"Models Evaluation\")\n",
    "plt.show()"
   ]
  },
  {
   "cell_type": "code",
   "execution_count": 72,
   "id": "0b1ec698",
   "metadata": {},
   "outputs": [
    {
     "data": {
      "text/html": [
       "<div>\n",
       "<style scoped>\n",
       "    .dataframe tbody tr th:only-of-type {\n",
       "        vertical-align: middle;\n",
       "    }\n",
       "\n",
       "    .dataframe tbody tr th {\n",
       "        vertical-align: top;\n",
       "    }\n",
       "\n",
       "    .dataframe thead th {\n",
       "        text-align: right;\n",
       "    }\n",
       "</style>\n",
       "<table border=\"1\" class=\"dataframe\">\n",
       "  <thead>\n",
       "    <tr style=\"text-align: right;\">\n",
       "      <th></th>\n",
       "      <th>Frequency</th>\n",
       "      <th>Monetary</th>\n",
       "      <th>Recency</th>\n",
       "      <th>Labels</th>\n",
       "    </tr>\n",
       "    <tr>\n",
       "      <th>Merchant_Code</th>\n",
       "      <th></th>\n",
       "      <th></th>\n",
       "      <th></th>\n",
       "      <th></th>\n",
       "    </tr>\n",
       "  </thead>\n",
       "  <tbody>\n",
       "    <tr>\n",
       "      <th>1</th>\n",
       "      <td>2.959587</td>\n",
       "      <td>6.035314</td>\n",
       "      <td>0</td>\n",
       "      <td>2</td>\n",
       "    </tr>\n",
       "    <tr>\n",
       "      <th>2</th>\n",
       "      <td>3.290638</td>\n",
       "      <td>6.881052</td>\n",
       "      <td>0</td>\n",
       "      <td>3</td>\n",
       "    </tr>\n",
       "    <tr>\n",
       "      <th>3</th>\n",
       "      <td>3.848231</td>\n",
       "      <td>8.192756</td>\n",
       "      <td>0</td>\n",
       "      <td>1</td>\n",
       "    </tr>\n",
       "    <tr>\n",
       "      <th>4</th>\n",
       "      <td>1.232560</td>\n",
       "      <td>6.449570</td>\n",
       "      <td>0</td>\n",
       "      <td>0</td>\n",
       "    </tr>\n",
       "    <tr>\n",
       "      <th>5</th>\n",
       "      <td>2.567254</td>\n",
       "      <td>6.404418</td>\n",
       "      <td>0</td>\n",
       "      <td>2</td>\n",
       "    </tr>\n",
       "    <tr>\n",
       "      <th>...</th>\n",
       "      <td>...</td>\n",
       "      <td>...</td>\n",
       "      <td>...</td>\n",
       "      <td>...</td>\n",
       "    </tr>\n",
       "    <tr>\n",
       "      <th>996</th>\n",
       "      <td>2.250239</td>\n",
       "      <td>6.402995</td>\n",
       "      <td>0</td>\n",
       "      <td>2</td>\n",
       "    </tr>\n",
       "    <tr>\n",
       "      <th>997</th>\n",
       "      <td>2.099244</td>\n",
       "      <td>5.753303</td>\n",
       "      <td>0</td>\n",
       "      <td>2</td>\n",
       "    </tr>\n",
       "    <tr>\n",
       "      <th>998</th>\n",
       "      <td>2.765060</td>\n",
       "      <td>6.259390</td>\n",
       "      <td>0</td>\n",
       "      <td>2</td>\n",
       "    </tr>\n",
       "    <tr>\n",
       "      <th>999</th>\n",
       "      <td>2.851284</td>\n",
       "      <td>7.093155</td>\n",
       "      <td>0</td>\n",
       "      <td>3</td>\n",
       "    </tr>\n",
       "    <tr>\n",
       "      <th>1000</th>\n",
       "      <td>3.278653</td>\n",
       "      <td>6.787462</td>\n",
       "      <td>0</td>\n",
       "      <td>3</td>\n",
       "    </tr>\n",
       "  </tbody>\n",
       "</table>\n",
       "<p>978 rows × 4 columns</p>\n",
       "</div>"
      ],
      "text/plain": [
       "               Frequency  Monetary  Recency  Labels\n",
       "Merchant_Code                                      \n",
       "1               2.959587  6.035314        0       2\n",
       "2               3.290638  6.881052        0       3\n",
       "3               3.848231  8.192756        0       1\n",
       "4               1.232560  6.449570        0       0\n",
       "5               2.567254  6.404418        0       2\n",
       "...                  ...       ...      ...     ...\n",
       "996             2.250239  6.402995        0       2\n",
       "997             2.099244  5.753303        0       2\n",
       "998             2.765060  6.259390        0       2\n",
       "999             2.851284  7.093155        0       3\n",
       "1000            3.278653  6.787462        0       3\n",
       "\n",
       "[978 rows x 4 columns]"
      ]
     },
     "execution_count": 72,
     "metadata": {},
     "output_type": "execute_result"
    }
   ],
   "source": [
    "#update the data frame with the champion model's labels\n",
    "rfm_0['Labels'] = modell_0.labels_\n",
    "rfm_0"
   ]
  },
  {
   "cell_type": "code",
   "execution_count": 73,
   "id": "c7892814",
   "metadata": {},
   "outputs": [],
   "source": [
    "#label encoding the clusters\n",
    "rfm_0[\"Labels\"] = rfm_0[\"Labels\"].replace(0,\"Needs Motivation\")\n",
    "rfm_0[\"Labels\"] = rfm_0[\"Labels\"].replace(1,\"Loyal\")\n",
    "rfm_0[\"Labels\"] = rfm_0[\"Labels\"].replace(2,\"Average\")\n",
    "rfm_0[\"Labels\"] = rfm_0[\"Labels\"].replace(3,\"Potential Loyalist\")"
   ]
  },
  {
   "cell_type": "code",
   "execution_count": 74,
   "id": "dcd1d6a9",
   "metadata": {},
   "outputs": [
    {
     "data": {
      "text/html": [
       "<div>\n",
       "<style scoped>\n",
       "    .dataframe tbody tr th:only-of-type {\n",
       "        vertical-align: middle;\n",
       "    }\n",
       "\n",
       "    .dataframe tbody tr th {\n",
       "        vertical-align: top;\n",
       "    }\n",
       "\n",
       "    .dataframe thead th {\n",
       "        text-align: right;\n",
       "    }\n",
       "</style>\n",
       "<table border=\"1\" class=\"dataframe\">\n",
       "  <thead>\n",
       "    <tr style=\"text-align: right;\">\n",
       "      <th></th>\n",
       "      <th>Frequency</th>\n",
       "      <th>Monetary</th>\n",
       "      <th>Recency</th>\n",
       "      <th>Labels</th>\n",
       "    </tr>\n",
       "    <tr>\n",
       "      <th>Merchant_Code</th>\n",
       "      <th></th>\n",
       "      <th></th>\n",
       "      <th></th>\n",
       "      <th></th>\n",
       "    </tr>\n",
       "  </thead>\n",
       "  <tbody>\n",
       "    <tr>\n",
       "      <th>1</th>\n",
       "      <td>2.959587</td>\n",
       "      <td>6.035314</td>\n",
       "      <td>0</td>\n",
       "      <td>Average</td>\n",
       "    </tr>\n",
       "    <tr>\n",
       "      <th>2</th>\n",
       "      <td>3.290638</td>\n",
       "      <td>6.881052</td>\n",
       "      <td>0</td>\n",
       "      <td>Potential Loyalist</td>\n",
       "    </tr>\n",
       "    <tr>\n",
       "      <th>3</th>\n",
       "      <td>3.848231</td>\n",
       "      <td>8.192756</td>\n",
       "      <td>0</td>\n",
       "      <td>Loyal</td>\n",
       "    </tr>\n",
       "    <tr>\n",
       "      <th>4</th>\n",
       "      <td>1.232560</td>\n",
       "      <td>6.449570</td>\n",
       "      <td>0</td>\n",
       "      <td>Needs Motivation</td>\n",
       "    </tr>\n",
       "    <tr>\n",
       "      <th>5</th>\n",
       "      <td>2.567254</td>\n",
       "      <td>6.404418</td>\n",
       "      <td>0</td>\n",
       "      <td>Average</td>\n",
       "    </tr>\n",
       "    <tr>\n",
       "      <th>...</th>\n",
       "      <td>...</td>\n",
       "      <td>...</td>\n",
       "      <td>...</td>\n",
       "      <td>...</td>\n",
       "    </tr>\n",
       "    <tr>\n",
       "      <th>996</th>\n",
       "      <td>2.250239</td>\n",
       "      <td>6.402995</td>\n",
       "      <td>0</td>\n",
       "      <td>Average</td>\n",
       "    </tr>\n",
       "    <tr>\n",
       "      <th>997</th>\n",
       "      <td>2.099244</td>\n",
       "      <td>5.753303</td>\n",
       "      <td>0</td>\n",
       "      <td>Average</td>\n",
       "    </tr>\n",
       "    <tr>\n",
       "      <th>998</th>\n",
       "      <td>2.765060</td>\n",
       "      <td>6.259390</td>\n",
       "      <td>0</td>\n",
       "      <td>Average</td>\n",
       "    </tr>\n",
       "    <tr>\n",
       "      <th>999</th>\n",
       "      <td>2.851284</td>\n",
       "      <td>7.093155</td>\n",
       "      <td>0</td>\n",
       "      <td>Potential Loyalist</td>\n",
       "    </tr>\n",
       "    <tr>\n",
       "      <th>1000</th>\n",
       "      <td>3.278653</td>\n",
       "      <td>6.787462</td>\n",
       "      <td>0</td>\n",
       "      <td>Potential Loyalist</td>\n",
       "    </tr>\n",
       "  </tbody>\n",
       "</table>\n",
       "<p>978 rows × 4 columns</p>\n",
       "</div>"
      ],
      "text/plain": [
       "               Frequency  Monetary  Recency              Labels\n",
       "Merchant_Code                                                  \n",
       "1               2.959587  6.035314        0             Average\n",
       "2               3.290638  6.881052        0  Potential Loyalist\n",
       "3               3.848231  8.192756        0               Loyal\n",
       "4               1.232560  6.449570        0    Needs Motivation\n",
       "5               2.567254  6.404418        0             Average\n",
       "...                  ...       ...      ...                 ...\n",
       "996             2.250239  6.402995        0             Average\n",
       "997             2.099244  5.753303        0             Average\n",
       "998             2.765060  6.259390        0             Average\n",
       "999             2.851284  7.093155        0  Potential Loyalist\n",
       "1000            3.278653  6.787462        0  Potential Loyalist\n",
       "\n",
       "[978 rows x 4 columns]"
      ]
     },
     "execution_count": 74,
     "metadata": {},
     "output_type": "execute_result"
    }
   ],
   "source": [
    "rfm_0"
   ]
  },
  {
   "cell_type": "code",
   "execution_count": 75,
   "id": "586f1da4",
   "metadata": {},
   "outputs": [
    {
     "data": {
      "text/plain": [
       "Potential Loyalist    319\n",
       "Loyal                 264\n",
       "Average               207\n",
       "Needs Motivation      188\n",
       "Name: Labels, dtype: int64"
      ]
     },
     "execution_count": 75,
     "metadata": {},
     "output_type": "execute_result"
    }
   ],
   "source": [
    "#print frequency of each cluster\n",
    "rfm_0.Labels.value_counts()"
   ]
  },
  {
   "cell_type": "code",
   "execution_count": 76,
   "id": "a26f0625",
   "metadata": {},
   "outputs": [
    {
     "data": {
      "text/html": [
       "<div>\n",
       "<style scoped>\n",
       "    .dataframe tbody tr th:only-of-type {\n",
       "        vertical-align: middle;\n",
       "    }\n",
       "\n",
       "    .dataframe tbody tr th {\n",
       "        vertical-align: top;\n",
       "    }\n",
       "\n",
       "    .dataframe thead th {\n",
       "        text-align: right;\n",
       "    }\n",
       "</style>\n",
       "<table border=\"1\" class=\"dataframe\">\n",
       "  <thead>\n",
       "    <tr style=\"text-align: right;\">\n",
       "      <th></th>\n",
       "      <th>Frequency</th>\n",
       "      <th>Monetary</th>\n",
       "      <th>Recency</th>\n",
       "      <th>cluster</th>\n",
       "      <th>Labels</th>\n",
       "    </tr>\n",
       "    <tr>\n",
       "      <th>Merchant_Code</th>\n",
       "      <th></th>\n",
       "      <th></th>\n",
       "      <th></th>\n",
       "      <th></th>\n",
       "      <th></th>\n",
       "    </tr>\n",
       "  </thead>\n",
       "  <tbody>\n",
       "    <tr>\n",
       "      <th>1</th>\n",
       "      <td>2.959587</td>\n",
       "      <td>6.035314</td>\n",
       "      <td>0</td>\n",
       "      <td>0</td>\n",
       "      <td>Average</td>\n",
       "    </tr>\n",
       "    <tr>\n",
       "      <th>2</th>\n",
       "      <td>3.290638</td>\n",
       "      <td>6.881052</td>\n",
       "      <td>0</td>\n",
       "      <td>0</td>\n",
       "      <td>Potential Loyalist</td>\n",
       "    </tr>\n",
       "    <tr>\n",
       "      <th>3</th>\n",
       "      <td>3.848231</td>\n",
       "      <td>8.192756</td>\n",
       "      <td>0</td>\n",
       "      <td>0</td>\n",
       "      <td>Loyal</td>\n",
       "    </tr>\n",
       "    <tr>\n",
       "      <th>4</th>\n",
       "      <td>1.232560</td>\n",
       "      <td>6.449570</td>\n",
       "      <td>0</td>\n",
       "      <td>0</td>\n",
       "      <td>Needs Motivation</td>\n",
       "    </tr>\n",
       "    <tr>\n",
       "      <th>5</th>\n",
       "      <td>2.567254</td>\n",
       "      <td>6.404418</td>\n",
       "      <td>0</td>\n",
       "      <td>0</td>\n",
       "      <td>Average</td>\n",
       "    </tr>\n",
       "    <tr>\n",
       "      <th>...</th>\n",
       "      <td>...</td>\n",
       "      <td>...</td>\n",
       "      <td>...</td>\n",
       "      <td>...</td>\n",
       "      <td>...</td>\n",
       "    </tr>\n",
       "    <tr>\n",
       "      <th>996</th>\n",
       "      <td>2.250239</td>\n",
       "      <td>6.402995</td>\n",
       "      <td>0</td>\n",
       "      <td>0</td>\n",
       "      <td>Average</td>\n",
       "    </tr>\n",
       "    <tr>\n",
       "      <th>997</th>\n",
       "      <td>2.099244</td>\n",
       "      <td>5.753303</td>\n",
       "      <td>0</td>\n",
       "      <td>0</td>\n",
       "      <td>Average</td>\n",
       "    </tr>\n",
       "    <tr>\n",
       "      <th>998</th>\n",
       "      <td>2.765060</td>\n",
       "      <td>6.259390</td>\n",
       "      <td>0</td>\n",
       "      <td>0</td>\n",
       "      <td>Average</td>\n",
       "    </tr>\n",
       "    <tr>\n",
       "      <th>999</th>\n",
       "      <td>2.851284</td>\n",
       "      <td>7.093155</td>\n",
       "      <td>0</td>\n",
       "      <td>0</td>\n",
       "      <td>Potential Loyalist</td>\n",
       "    </tr>\n",
       "    <tr>\n",
       "      <th>1000</th>\n",
       "      <td>3.278653</td>\n",
       "      <td>6.787462</td>\n",
       "      <td>0</td>\n",
       "      <td>0</td>\n",
       "      <td>Potential Loyalist</td>\n",
       "    </tr>\n",
       "  </tbody>\n",
       "</table>\n",
       "<p>998 rows × 5 columns</p>\n",
       "</div>"
      ],
      "text/plain": [
       "               Frequency  Monetary  Recency cluster              Labels\n",
       "Merchant_Code                                                          \n",
       "1               2.959587  6.035314        0       0             Average\n",
       "2               3.290638  6.881052        0       0  Potential Loyalist\n",
       "3               3.848231  8.192756        0       0               Loyal\n",
       "4               1.232560  6.449570        0       0    Needs Motivation\n",
       "5               2.567254  6.404418        0       0             Average\n",
       "...                  ...       ...      ...     ...                 ...\n",
       "996             2.250239  6.402995        0       0             Average\n",
       "997             2.099244  5.753303        0       0             Average\n",
       "998             2.765060  6.259390        0       0             Average\n",
       "999             2.851284  7.093155        0       0  Potential Loyalist\n",
       "1000            3.278653  6.787462        0       0  Potential Loyalist\n",
       "\n",
       "[998 rows x 5 columns]"
      ]
     },
     "execution_count": 76,
     "metadata": {},
     "output_type": "execute_result"
    }
   ],
   "source": [
    "#merge the dataframes to create a unified dataframe for all merchants\n",
    "conc = rfm.join(rfm_0 ,rsuffix='_0')\n",
    "conc = conc.drop([\"Frequency_0\",\"Monetary_0\",\"Recency_0\"], axis=1)\n",
    "conc"
   ]
  },
  {
   "cell_type": "code",
   "execution_count": 77,
   "id": "d9efacaa",
   "metadata": {},
   "outputs": [],
   "source": [
    "#adding the labels missing from first clustering phase\n",
    "conc.Labels.fillna(conc.cluster, inplace=True)"
   ]
  },
  {
   "cell_type": "code",
   "execution_count": 78,
   "id": "6f94ff9d",
   "metadata": {},
   "outputs": [],
   "source": [
    "#dropping the column holding labels from the first clustering phase\n",
    "conc = conc.drop(\"cluster\",axis=1)"
   ]
  },
  {
   "cell_type": "code",
   "execution_count": 79,
   "id": "8ece13bc",
   "metadata": {},
   "outputs": [],
   "source": [
    "concc = conc.copy()"
   ]
  },
  {
   "cell_type": "code",
   "execution_count": 80,
   "id": "008a9875",
   "metadata": {},
   "outputs": [
    {
     "data": {
      "text/html": [
       "<div>\n",
       "<style scoped>\n",
       "    .dataframe tbody tr th:only-of-type {\n",
       "        vertical-align: middle;\n",
       "    }\n",
       "\n",
       "    .dataframe tbody tr th {\n",
       "        vertical-align: top;\n",
       "    }\n",
       "\n",
       "    .dataframe thead th {\n",
       "        text-align: right;\n",
       "    }\n",
       "</style>\n",
       "<table border=\"1\" class=\"dataframe\">\n",
       "  <thead>\n",
       "    <tr style=\"text-align: right;\">\n",
       "      <th></th>\n",
       "      <th>Frequency</th>\n",
       "      <th>Monetary</th>\n",
       "      <th>Recency</th>\n",
       "      <th>Labels</th>\n",
       "    </tr>\n",
       "    <tr>\n",
       "      <th>Merchant_Code</th>\n",
       "      <th></th>\n",
       "      <th></th>\n",
       "      <th></th>\n",
       "      <th></th>\n",
       "    </tr>\n",
       "  </thead>\n",
       "  <tbody>\n",
       "    <tr>\n",
       "      <th>1</th>\n",
       "      <td>2.959587</td>\n",
       "      <td>6.035314</td>\n",
       "      <td>0</td>\n",
       "      <td>Average</td>\n",
       "    </tr>\n",
       "    <tr>\n",
       "      <th>2</th>\n",
       "      <td>3.290638</td>\n",
       "      <td>6.881052</td>\n",
       "      <td>0</td>\n",
       "      <td>Potential Loyalist</td>\n",
       "    </tr>\n",
       "    <tr>\n",
       "      <th>3</th>\n",
       "      <td>3.848231</td>\n",
       "      <td>8.192756</td>\n",
       "      <td>0</td>\n",
       "      <td>Loyal</td>\n",
       "    </tr>\n",
       "    <tr>\n",
       "      <th>4</th>\n",
       "      <td>1.232560</td>\n",
       "      <td>6.449570</td>\n",
       "      <td>0</td>\n",
       "      <td>Needs Motivation</td>\n",
       "    </tr>\n",
       "    <tr>\n",
       "      <th>5</th>\n",
       "      <td>2.567254</td>\n",
       "      <td>6.404418</td>\n",
       "      <td>0</td>\n",
       "      <td>Average</td>\n",
       "    </tr>\n",
       "    <tr>\n",
       "      <th>...</th>\n",
       "      <td>...</td>\n",
       "      <td>...</td>\n",
       "      <td>...</td>\n",
       "      <td>...</td>\n",
       "    </tr>\n",
       "    <tr>\n",
       "      <th>996</th>\n",
       "      <td>2.250239</td>\n",
       "      <td>6.402995</td>\n",
       "      <td>0</td>\n",
       "      <td>Average</td>\n",
       "    </tr>\n",
       "    <tr>\n",
       "      <th>997</th>\n",
       "      <td>2.099244</td>\n",
       "      <td>5.753303</td>\n",
       "      <td>0</td>\n",
       "      <td>Average</td>\n",
       "    </tr>\n",
       "    <tr>\n",
       "      <th>998</th>\n",
       "      <td>2.765060</td>\n",
       "      <td>6.259390</td>\n",
       "      <td>0</td>\n",
       "      <td>Average</td>\n",
       "    </tr>\n",
       "    <tr>\n",
       "      <th>999</th>\n",
       "      <td>2.851284</td>\n",
       "      <td>7.093155</td>\n",
       "      <td>0</td>\n",
       "      <td>Potential Loyalist</td>\n",
       "    </tr>\n",
       "    <tr>\n",
       "      <th>1000</th>\n",
       "      <td>3.278653</td>\n",
       "      <td>6.787462</td>\n",
       "      <td>0</td>\n",
       "      <td>Potential Loyalist</td>\n",
       "    </tr>\n",
       "  </tbody>\n",
       "</table>\n",
       "<p>998 rows × 4 columns</p>\n",
       "</div>"
      ],
      "text/plain": [
       "               Frequency  Monetary  Recency              Labels\n",
       "Merchant_Code                                                  \n",
       "1               2.959587  6.035314        0             Average\n",
       "2               3.290638  6.881052        0  Potential Loyalist\n",
       "3               3.848231  8.192756        0               Loyal\n",
       "4               1.232560  6.449570        0    Needs Motivation\n",
       "5               2.567254  6.404418        0             Average\n",
       "...                  ...       ...      ...                 ...\n",
       "996             2.250239  6.402995        0             Average\n",
       "997             2.099244  5.753303        0             Average\n",
       "998             2.765060  6.259390        0             Average\n",
       "999             2.851284  7.093155        0  Potential Loyalist\n",
       "1000            3.278653  6.787462        0  Potential Loyalist\n",
       "\n",
       "[998 rows x 4 columns]"
      ]
     },
     "execution_count": 80,
     "metadata": {},
     "output_type": "execute_result"
    }
   ],
   "source": [
    "concc"
   ]
  },
  {
   "cell_type": "code",
   "execution_count": 81,
   "id": "a2a3f7a5",
   "metadata": {},
   "outputs": [],
   "source": [
    "#the dictionary for \"churned\" merchants\n",
    "d = {'Frequency': 0, 'Monetary': 0, 'Recency':-1, 'Labels':\"Churned\"}"
   ]
  },
  {
   "cell_type": "code",
   "execution_count": 82,
   "id": "bd6bf129",
   "metadata": {},
   "outputs": [
    {
     "name": "stdout",
     "output_type": "stream",
     "text": [
      "     Frequency  Monetary  Recency   Labels\n",
      "545          0         0       -1  Churned\n",
      "     Frequency  Monetary  Recency   Labels\n",
      "938          0         0       -1  Churned\n"
     ]
    }
   ],
   "source": [
    "# finding the CHURNED merchants (haven't made a trx. in this quarter) \n",
    "#and add them to the dataframe\n",
    "ind = 0\n",
    "for i in range(1,1001):\n",
    "    if i not in concc.index :\n",
    "        df2 = pd.DataFrame(d, index=[i])\n",
    "        print(df2)\n",
    "        concc = concc.append(df2)"
   ]
  },
  {
   "cell_type": "code",
   "execution_count": 83,
   "id": "799522da",
   "metadata": {},
   "outputs": [
    {
     "data": {
      "text/html": [
       "<div>\n",
       "<style scoped>\n",
       "    .dataframe tbody tr th:only-of-type {\n",
       "        vertical-align: middle;\n",
       "    }\n",
       "\n",
       "    .dataframe tbody tr th {\n",
       "        vertical-align: top;\n",
       "    }\n",
       "\n",
       "    .dataframe thead th {\n",
       "        text-align: right;\n",
       "    }\n",
       "</style>\n",
       "<table border=\"1\" class=\"dataframe\">\n",
       "  <thead>\n",
       "    <tr style=\"text-align: right;\">\n",
       "      <th></th>\n",
       "      <th>Frequency</th>\n",
       "      <th>Monetary</th>\n",
       "      <th>Recency</th>\n",
       "      <th>Labels</th>\n",
       "    </tr>\n",
       "  </thead>\n",
       "  <tbody>\n",
       "    <tr>\n",
       "      <th>1</th>\n",
       "      <td>2.959587</td>\n",
       "      <td>6.035314</td>\n",
       "      <td>0</td>\n",
       "      <td>Average</td>\n",
       "    </tr>\n",
       "    <tr>\n",
       "      <th>2</th>\n",
       "      <td>3.290638</td>\n",
       "      <td>6.881052</td>\n",
       "      <td>0</td>\n",
       "      <td>Potential Loyalist</td>\n",
       "    </tr>\n",
       "    <tr>\n",
       "      <th>3</th>\n",
       "      <td>3.848231</td>\n",
       "      <td>8.192756</td>\n",
       "      <td>0</td>\n",
       "      <td>Loyal</td>\n",
       "    </tr>\n",
       "    <tr>\n",
       "      <th>4</th>\n",
       "      <td>1.232560</td>\n",
       "      <td>6.449570</td>\n",
       "      <td>0</td>\n",
       "      <td>Needs Motivation</td>\n",
       "    </tr>\n",
       "    <tr>\n",
       "      <th>5</th>\n",
       "      <td>2.567254</td>\n",
       "      <td>6.404418</td>\n",
       "      <td>0</td>\n",
       "      <td>Average</td>\n",
       "    </tr>\n",
       "    <tr>\n",
       "      <th>...</th>\n",
       "      <td>...</td>\n",
       "      <td>...</td>\n",
       "      <td>...</td>\n",
       "      <td>...</td>\n",
       "    </tr>\n",
       "    <tr>\n",
       "      <th>996</th>\n",
       "      <td>2.250239</td>\n",
       "      <td>6.402995</td>\n",
       "      <td>0</td>\n",
       "      <td>Average</td>\n",
       "    </tr>\n",
       "    <tr>\n",
       "      <th>997</th>\n",
       "      <td>2.099244</td>\n",
       "      <td>5.753303</td>\n",
       "      <td>0</td>\n",
       "      <td>Average</td>\n",
       "    </tr>\n",
       "    <tr>\n",
       "      <th>998</th>\n",
       "      <td>2.765060</td>\n",
       "      <td>6.259390</td>\n",
       "      <td>0</td>\n",
       "      <td>Average</td>\n",
       "    </tr>\n",
       "    <tr>\n",
       "      <th>999</th>\n",
       "      <td>2.851284</td>\n",
       "      <td>7.093155</td>\n",
       "      <td>0</td>\n",
       "      <td>Potential Loyalist</td>\n",
       "    </tr>\n",
       "    <tr>\n",
       "      <th>1000</th>\n",
       "      <td>3.278653</td>\n",
       "      <td>6.787462</td>\n",
       "      <td>0</td>\n",
       "      <td>Potential Loyalist</td>\n",
       "    </tr>\n",
       "  </tbody>\n",
       "</table>\n",
       "<p>1000 rows × 4 columns</p>\n",
       "</div>"
      ],
      "text/plain": [
       "      Frequency  Monetary  Recency              Labels\n",
       "1      2.959587  6.035314        0             Average\n",
       "2      3.290638  6.881052        0  Potential Loyalist\n",
       "3      3.848231  8.192756        0               Loyal\n",
       "4      1.232560  6.449570        0    Needs Motivation\n",
       "5      2.567254  6.404418        0             Average\n",
       "...         ...       ...      ...                 ...\n",
       "996    2.250239  6.402995        0             Average\n",
       "997    2.099244  5.753303        0             Average\n",
       "998    2.765060  6.259390        0             Average\n",
       "999    2.851284  7.093155        0  Potential Loyalist\n",
       "1000   3.278653  6.787462        0  Potential Loyalist\n",
       "\n",
       "[1000 rows x 4 columns]"
      ]
     },
     "execution_count": 83,
     "metadata": {},
     "output_type": "execute_result"
    }
   ],
   "source": [
    "#update the dataframe with the order of merchants\n",
    "concc = concc.sort_index()\n",
    "concc"
   ]
  },
  {
   "cell_type": "code",
   "execution_count": 84,
   "id": "ff33665d",
   "metadata": {},
   "outputs": [
    {
     "data": {
      "text/plain": [
       "Potential Loyalist    319\n",
       "Loyal                 264\n",
       "Average               207\n",
       "Needs Motivation      188\n",
       "low risk               13\n",
       "high risk               7\n",
       "Churned                 2\n",
       "Name: Labels, dtype: int64"
      ]
     },
     "execution_count": 84,
     "metadata": {},
     "output_type": "execute_result"
    }
   ],
   "source": [
    "#print frequency of each cluster\n",
    "concc.Labels.value_counts()"
   ]
  },
  {
   "cell_type": "code",
   "execution_count": 85,
   "id": "8d029bdc",
   "metadata": {},
   "outputs": [],
   "source": [
    "#export the final dataframe to excel file\n",
    "concc.to_excel(\"merchnats_rfm.xlsx\")"
   ]
  },
  {
   "cell_type": "code",
   "execution_count": null,
   "id": "5a506ee9",
   "metadata": {},
   "outputs": [],
   "source": []
  }
 ],
 "metadata": {
  "kernelspec": {
   "display_name": "Python 3 (ipykernel)",
   "language": "python",
   "name": "python3"
  },
  "language_info": {
   "codemirror_mode": {
    "name": "ipython",
    "version": 3
   },
   "file_extension": ".py",
   "mimetype": "text/x-python",
   "name": "python",
   "nbconvert_exporter": "python",
   "pygments_lexer": "ipython3",
   "version": "3.9.7"
  }
 },
 "nbformat": 4,
 "nbformat_minor": 5
}
